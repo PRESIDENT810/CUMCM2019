{
 "cells": [
  {
   "cell_type": "code",
   "execution_count": 5,
   "metadata": {},
   "outputs": [],
   "source": [
    "import pandas as pd\n",
    "from datetime import datetime"
   ]
  },
  {
   "cell_type": "code",
   "execution_count": 22,
   "metadata": {},
   "outputs": [],
   "source": [
    "from datetime import datetime\n",
    "def getULCustNum(currentTime):\n",
    "    def getTimeResult(currentTime):\n",
    "        parts = currentTime.split(' ')\n",
    "    #     print(parts)\n",
    "        time_now = parts[0] + ' ' + parts[1]\n",
    "        result = datetime.strptime(time_now, '%Y/%m/%d %H:%M:%S')\n",
    "        return result\n",
    "    def getMinutesFromZero(dt_obj):\n",
    "        hour = dt_obj.hour\n",
    "        mins = dt_obj.minute\n",
    "        return hour * 60 + mins\n",
    "    def getULCustNumIn(currentTime):\n",
    "#         currentTime = '2011/4/18 0:02'\n",
    "        result = getTimeResult(currentTime)\n",
    "        # dir(result)\n",
    "        week_day = result.weekday()\n",
    "        mins_for_input_time = getMinutesFromZero(result)\n",
    "#         print(mins_for_input_time)\n",
    "        \n",
    "        # result_df = df.query('(day_time < mins_for_input_time) and (day_time - 15 < mins_for_input_time))')\n",
    "        upper = df[df['day_time']<mins_for_input_time].iloc[-1, (week_day+1)]\n",
    "        return upper\n",
    "    \n",
    "    df = pd.read_excel('../港口人数.xlsx')\n",
    "    # get a new columns in df\n",
    "    df['day_time'] = pd.to_datetime(df['时刻'], format='%H:%M')\n",
    "    df['day_time'] = df['day_time'].apply(getMinutesFromZero)\n",
    "\n",
    "    try:\n",
    "        return getULCustNumIn(currentTime)\n",
    "    except:\n",
    "        return 23 * 60\n",
    "\n",
    "    "
   ]
  },
  {
   "cell_type": "code",
   "execution_count": 23,
   "metadata": {},
   "outputs": [
    {
     "data": {
      "text/plain": [
       "1380"
      ]
     },
     "execution_count": 23,
     "metadata": {},
     "output_type": "execute_result"
    }
   ],
   "source": [
    "currentTime = '2011/4/18 1:02'\n",
    "getULCustNum(currentTime)"
   ]
  },
  {
   "cell_type": "code",
   "execution_count": 27,
   "metadata": {},
   "outputs": [],
   "source": [
    "df = pd.read_csv('/Users/zhaojuntao/Downloads/TripData/trip_粤B02S57.csv')\n",
    "df['now_time'] = df['StartTime'].apply(getULCustNum)"
   ]
  },
  {
   "cell_type": "code",
   "execution_count": 28,
   "metadata": {},
   "outputs": [
    {
     "data": {
      "text/plain": [
       "0     1380\n",
       "1     1729\n",
       "2     1221\n",
       "3     1659\n",
       "4      488\n",
       "5        0\n",
       "6      186\n",
       "7      186\n",
       "8        0\n",
       "9        0\n",
       "10     180\n",
       "11       0\n",
       "12       0\n",
       "13       0\n",
       "14       0\n",
       "15       0\n",
       "16     365\n",
       "17       0\n",
       "18     687\n",
       "19    1141\n",
       "20    1277\n",
       "21    1374\n",
       "22    1374\n",
       "23     903\n",
       "24     654\n",
       "25    1397\n",
       "26    1397\n",
       "27    1117\n",
       "28     924\n",
       "29    1801\n",
       "      ... \n",
       "63     220\n",
       "64     220\n",
       "65     186\n",
       "66     395\n",
       "67       0\n",
       "68       0\n",
       "69       0\n",
       "70     375\n",
       "71     375\n",
       "72     375\n",
       "73     375\n",
       "74     375\n",
       "75     180\n",
       "76       0\n",
       "77       0\n",
       "78       0\n",
       "79     170\n",
       "80     332\n",
       "81     697\n",
       "82    1179\n",
       "83     632\n",
       "84    1310\n",
       "85    1540\n",
       "86    1540\n",
       "87    1270\n",
       "88     985\n",
       "89     985\n",
       "90     508\n",
       "91    1338\n",
       "92    1430\n",
       "Name: now_time, Length: 93, dtype: int64"
      ]
     },
     "execution_count": 28,
     "metadata": {},
     "output_type": "execute_result"
    }
   ],
   "source": [
    "df['now_time']"
   ]
  },
  {
   "cell_type": "code",
   "execution_count": null,
   "metadata": {},
   "outputs": [],
   "source": [
    "    "
   ]
  },
  {
   "cell_type": "code",
   "execution_count": null,
   "metadata": {},
   "outputs": [],
   "source": []
  },
  {
   "cell_type": "code",
   "execution_count": null,
   "metadata": {},
   "outputs": [],
   "source": []
  }
 ],
 "metadata": {
  "kernelspec": {
   "display_name": "Python 3",
   "language": "python",
   "name": "python3"
  },
  "language_info": {
   "codemirror_mode": {
    "name": "ipython",
    "version": 3
   },
   "file_extension": ".py",
   "mimetype": "text/x-python",
   "name": "python",
   "nbconvert_exporter": "python",
   "pygments_lexer": "ipython3",
   "version": "3.7.2"
  }
 },
 "nbformat": 4,
 "nbformat_minor": 2
}
