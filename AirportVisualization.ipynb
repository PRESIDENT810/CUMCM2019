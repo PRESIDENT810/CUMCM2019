{
 "cells": [
  {
   "cell_type": "raw",
   "metadata": {},
   "source": [
    "import pandas as pd\n",
    "import numpy as np\n",
    "import matplotlib.mlab as mlab \n",
    "import matplotlib.pyplot as plt\n",
    "import seaborn as sns\n",
    "\n",
    "df = pd.read_csv('./alltrip.csv',index_col=0)"
   ]
  },
  {
   "cell_type": "code",
   "execution_count": 3,
   "metadata": {},
   "outputs": [],
   "source": [
    "df = pd.read_csv('./alltrip.csv',index_col=0)"
   ]
  },
  {
   "cell_type": "code",
   "execution_count": 5,
   "metadata": {},
   "outputs": [],
   "source": [
    "### rule out irrational data\n",
    "df = df.fillna(0)\n",
    "df = df[(df['Distance']<=200) & (df['Distance']>=0)]\n",
    "df = df[(df['fare']<=500) & (df['fare']>=0)]"
   ]
  },
  {
   "cell_type": "code",
   "execution_count": 7,
   "metadata": {},
   "outputs": [
    {
     "data": {
      "text/html": [
       "<div>\n",
       "<style scoped>\n",
       "    .dataframe tbody tr th:only-of-type {\n",
       "        vertical-align: middle;\n",
       "    }\n",
       "\n",
       "    .dataframe tbody tr th {\n",
       "        vertical-align: top;\n",
       "    }\n",
       "\n",
       "    .dataframe thead th {\n",
       "        text-align: right;\n",
       "    }\n",
       "</style>\n",
       "<table border=\"1\" class=\"dataframe\">\n",
       "  <thead>\n",
       "    <tr style=\"text-align: right;\">\n",
       "      <th></th>\n",
       "      <th>Avg_speed</th>\n",
       "      <th>Distance</th>\n",
       "      <th>EndJD</th>\n",
       "      <th>EndTime</th>\n",
       "      <th>EndWD</th>\n",
       "      <th>End_idx</th>\n",
       "      <th>Faraway</th>\n",
       "      <th>FromAirport</th>\n",
       "      <th>InNearby</th>\n",
       "      <th>StartJD</th>\n",
       "      <th>StartTime</th>\n",
       "      <th>StartWD</th>\n",
       "      <th>Start_idx</th>\n",
       "      <th>fare</th>\n",
       "    </tr>\n",
       "  </thead>\n",
       "  <tbody>\n",
       "    <tr>\n",
       "      <th>4</th>\n",
       "      <td>76.531250</td>\n",
       "      <td>0.359723</td>\n",
       "      <td>114.164536</td>\n",
       "      <td>2011/04/18 01:36:05</td>\n",
       "      <td>22.561951</td>\n",
       "      <td>171.0</td>\n",
       "      <td>0.0</td>\n",
       "      <td>1.0</td>\n",
       "      <td>0.0</td>\n",
       "      <td>113.815483</td>\n",
       "      <td>2011/04/18 01:02:34</td>\n",
       "      <td>22.648916</td>\n",
       "      <td>106.0</td>\n",
       "      <td>137.141949</td>\n",
       "    </tr>\n",
       "    <tr>\n",
       "      <th>70</th>\n",
       "      <td>75.125000</td>\n",
       "      <td>0.225440</td>\n",
       "      <td>114.028130</td>\n",
       "      <td>2011/04/19 13:46:39</td>\n",
       "      <td>22.540083</td>\n",
       "      <td>2545.0</td>\n",
       "      <td>1.0</td>\n",
       "      <td>1.0</td>\n",
       "      <td>0.0</td>\n",
       "      <td>113.831200</td>\n",
       "      <td>2011/04/19 13:28:07</td>\n",
       "      <td>22.649817</td>\n",
       "      <td>2528.0</td>\n",
       "      <td>66.195578</td>\n",
       "    </tr>\n",
       "    <tr>\n",
       "      <th>100</th>\n",
       "      <td>74.000000</td>\n",
       "      <td>0.277574</td>\n",
       "      <td>114.064201</td>\n",
       "      <td>2011/04/20 01:27:42</td>\n",
       "      <td>22.521566</td>\n",
       "      <td>3704.0</td>\n",
       "      <td>0.0</td>\n",
       "      <td>1.0</td>\n",
       "      <td>0.0</td>\n",
       "      <td>113.816467</td>\n",
       "      <td>2011/04/20 01:05:11</td>\n",
       "      <td>22.646767</td>\n",
       "      <td>3694.0</td>\n",
       "      <td>100.903754</td>\n",
       "    </tr>\n",
       "    <tr>\n",
       "      <th>145</th>\n",
       "      <td>59.500000</td>\n",
       "      <td>0.056493</td>\n",
       "      <td>113.869102</td>\n",
       "      <td>2011/04/20 22:33:54</td>\n",
       "      <td>22.620951</td>\n",
       "      <td>4911.0</td>\n",
       "      <td>0.0</td>\n",
       "      <td>1.0</td>\n",
       "      <td>1.0</td>\n",
       "      <td>113.818649</td>\n",
       "      <td>2011/04/20 22:28:50</td>\n",
       "      <td>22.646366</td>\n",
       "      <td>4906.0</td>\n",
       "      <td>20.137486</td>\n",
       "    </tr>\n",
       "    <tr>\n",
       "      <th>146</th>\n",
       "      <td>69.869565</td>\n",
       "      <td>0.137607</td>\n",
       "      <td>113.925652</td>\n",
       "      <td>2011/04/21 00:02:57</td>\n",
       "      <td>22.566683</td>\n",
       "      <td>5016.0</td>\n",
       "      <td>1.0</td>\n",
       "      <td>1.0</td>\n",
       "      <td>0.0</td>\n",
       "      <td>113.815269</td>\n",
       "      <td>2011/04/20 23:51:27</td>\n",
       "      <td>22.648849</td>\n",
       "      <td>4992.0</td>\n",
       "      <td>42.644351</td>\n",
       "    </tr>\n",
       "  </tbody>\n",
       "</table>\n",
       "</div>"
      ],
      "text/plain": [
       "     Avg_speed  Distance       EndJD              EndTime      EndWD  End_idx  \\\n",
       "4    76.531250  0.359723  114.164536  2011/04/18 01:36:05  22.561951    171.0   \n",
       "70   75.125000  0.225440  114.028130  2011/04/19 13:46:39  22.540083   2545.0   \n",
       "100  74.000000  0.277574  114.064201  2011/04/20 01:27:42  22.521566   3704.0   \n",
       "145  59.500000  0.056493  113.869102  2011/04/20 22:33:54  22.620951   4911.0   \n",
       "146  69.869565  0.137607  113.925652  2011/04/21 00:02:57  22.566683   5016.0   \n",
       "\n",
       "     Faraway  FromAirport  InNearby     StartJD            StartTime  \\\n",
       "4        0.0          1.0       0.0  113.815483  2011/04/18 01:02:34   \n",
       "70       1.0          1.0       0.0  113.831200  2011/04/19 13:28:07   \n",
       "100      0.0          1.0       0.0  113.816467  2011/04/20 01:05:11   \n",
       "145      0.0          1.0       1.0  113.818649  2011/04/20 22:28:50   \n",
       "146      1.0          1.0       0.0  113.815269  2011/04/20 23:51:27   \n",
       "\n",
       "       StartWD  Start_idx        fare  \n",
       "4    22.648916      106.0  137.141949  \n",
       "70   22.649817     2528.0   66.195578  \n",
       "100  22.646767     3694.0  100.903754  \n",
       "145  22.646366     4906.0   20.137486  \n",
       "146  22.648849     4992.0   42.644351  "
      ]
     },
     "execution_count": 7,
     "metadata": {},
     "output_type": "execute_result"
    }
   ],
   "source": [
    "df.head()"
   ]
  },
  {
   "cell_type": "code",
   "execution_count": 15,
   "metadata": {},
   "outputs": [
    {
     "data": {
      "text/plain": [
       "InNearby\n",
       "0.0    21028\n",
       "1.0    11841\n",
       "dtype: int64"
      ]
     },
     "execution_count": 15,
     "metadata": {},
     "output_type": "execute_result"
    }
   ],
   "source": [
    "nearby_group = df.groupby(['InNearby']).size()\n",
    "nearby_group"
   ]
  },
  {
   "cell_type": "code",
   "execution_count": 20,
   "metadata": {},
   "outputs": [
    {
     "data": {
      "text/plain": [
       "<matplotlib.legend.Legend at 0x11b7d7c50>"
      ]
     },
     "execution_count": 20,
     "metadata": {},
     "output_type": "execute_result"
    },
    {
     "data": {
      "image/png": "[encoded data removed]",
      "text/plain": [
       "<Figure size 432x432 with 1 Axes>"
      ]
     },
     "metadata": {},
     "output_type": "display_data"
    }
   ],
   "source": [
    "### whether final destination is nearby\n",
    "plt.figure(figsize=(6,6))\n",
    "\n",
    "plt.pie([nearby_group[0],nearby_group[1]],colors=('chartreuse','cyan'),labels=(\"Not nearby\",\"Nearby\"),  autopct='%1.2f%%')\n",
    "plt.title(\"Nearby Pie Chart\")\n",
    "plt.legend(loc=0)"
   ]
  },
  {
   "cell_type": "code",
   "execution_count": 40,
   "metadata": {},
   "outputs": [
    {
     "data": {
      "text/plain": [
       "<matplotlib.axes._subplots.AxesSubplot at 0x11dbe5cf8>"
      ]
     },
     "execution_count": 40,
     "metadata": {},
     "output_type": "execute_result"
    },
    {
     "data": {
      "image/png": "[encoded data removed]",
      "text/plain": [
       "<Figure size 864x576 with 1 Axes>"
      ]
     },
     "metadata": {
      "needs_background": "light"
     },
     "output_type": "display_data"
    }
   ],
   "source": [
    "fig = plt.figure(figsize=(12,8))\n",
    "sns.distplot(df['fare'])"
   ]
  },
  {
   "cell_type": "code",
   "execution_count": 46,
   "metadata": {},
   "outputs": [],
   "source": [
    "short_df = df[df['InNearby']==1]\n",
    "long_df = df[df['InNearby']==0]"
   ]
  },
  {
   "cell_type": "code",
   "execution_count": 27,
   "metadata": {},
   "outputs": [],
   "source": [
    "def norm_pdf(x,mu,sigma):\n",
    "    pdf = np.exp(-((x - mu)**2) / (2* sigma**2)) / (sigma * np.sqrt(2*np.pi))    \n",
    "    return pdf"
   ]
  },
  {
   "cell_type": "markdown",
   "metadata": {},
   "source": [
    "### fit short trip fare"
   ]
  },
  {
   "cell_type": "code",
   "execution_count": 80,
   "metadata": {},
   "outputs": [],
   "source": [
    "short_df = short_df[short_df['fare']!=0]\n",
    "short_mean = np.mean(short_df['fare'])\n",
    "short_std = np.std(short_df['fare'])\n",
    "short_size = short_df.shape[0]"
   ]
  },
  {
   "cell_type": "code",
   "execution_count": 97,
   "metadata": {},
   "outputs": [
    {
     "data": {
      "text/plain": [
       "8.155739808047647"
      ]
     },
     "execution_count": 97,
     "metadata": {},
     "output_type": "execute_result"
    }
   ],
   "source": [
    "short_std"
   ]
  },
  {
   "cell_type": "code",
   "execution_count": 96,
   "metadata": {},
   "outputs": [
    {
     "data": {
      "text/plain": [
       "[<matplotlib.lines.Line2D at 0x12dae7898>]"
      ]
     },
     "execution_count": 96,
     "metadata": {},
     "output_type": "execute_result"
    },
    {
     "data": {
      "image/png": "[encoded data removed]",
      "text/plain": [
       "<Figure size 864x576 with 1 Axes>"
      ]
     },
     "metadata": {
      "needs_background": "light"
     },
     "output_type": "display_data"
    }
   ],
   "source": [
    "fig = plt.figure(figsize=(12,8))\n",
    "\n",
    "num_bins = 100\n",
    "n, bins, patches = plt.hist(short_df['fare'], num_bins,normed=1, facecolor='blue', alpha=0.5) \n",
    "lam = 1/short_mean\n",
    "x = np.arange(0,100+1,1)\n",
    "y = lam * np.exp(- lam * x)\n",
    "plt.plot(bins, y, 'r--')"
   ]
  },
  {
   "cell_type": "markdown",
   "metadata": {},
   "source": [
    "### fit long trip fare"
   ]
  },
  {
   "cell_type": "code",
   "execution_count": 47,
   "metadata": {},
   "outputs": [],
   "source": [
    "long_mean = np.mean(long_df['fare'])\n",
    "long_std = np.std(long_df['fare'])\n",
    "long_size = long_df.shape[0]"
   ]
  },
  {
   "cell_type": "code",
   "execution_count": 84,
   "metadata": {},
   "outputs": [
    {
     "data": {
      "text/plain": [
       "75.89804072021579"
      ]
     },
     "execution_count": 84,
     "metadata": {},
     "output_type": "execute_result"
    }
   ],
   "source": [
    "long_mean"
   ]
  },
  {
   "cell_type": "code",
   "execution_count": 58,
   "metadata": {},
   "outputs": [
    {
     "name": "stderr",
     "output_type": "stream",
     "text": [
      "/usr/local/lib/python3.7/site-packages/ipykernel_launcher.py:5: MatplotlibDeprecationWarning: scipy.stats.norm.pdf\n",
      "  \"\"\"\n"
     ]
    },
    {
     "data": {
      "text/plain": [
       "Text(0,0.5,'Probability')"
      ]
     },
     "execution_count": 58,
     "metadata": {},
     "output_type": "execute_result"
    },
    {
     "data": {
      "image/png": "[encoded data removed]",
      "text/plain": [
       "<Figure size 864x576 with 1 Axes>"
      ]
     },
     "metadata": {
      "needs_background": "light"
     },
     "output_type": "display_data"
    }
   ],
   "source": [
    "fig = plt.figure(figsize=(12,8))\n",
    "\n",
    "num_bins = 100\n",
    "n, bins, patches = plt.hist(long_df['fare'], num_bins,normed=1, facecolor='blue', alpha=0.5) \n",
    "y = mlab.normpdf(bins, long_mean, long_std)\n",
    "plt.plot(bins, y, 'r--')  \n",
    "plt.xlabel('sepal-length')\n",
    "plt.ylabel('Probability') "
   ]
  },
  {
   "cell_type": "code",
   "execution_count": 59,
   "metadata": {},
   "outputs": [
    {
     "name": "stdout",
     "output_type": "stream",
     "text": [
      "14.711914992669351 8.399341514874573 75.89804072021579 37.81963940113318\n"
     ]
    }
   ],
   "source": [
    "print(short_mean, short_std, long_mean, long_std)"
   ]
  },
  {
   "cell_type": "markdown",
   "metadata": {},
   "source": [
    "### fit all trip fare"
   ]
  },
  {
   "cell_type": "code",
   "execution_count": 60,
   "metadata": {},
   "outputs": [],
   "source": [
    "all_mean = np.mean(df['fare'])\n",
    "all_std = np.std(df['fare'])\n",
    "all_size = df.shape[0]"
   ]
  },
  {
   "cell_type": "code",
   "execution_count": 99,
   "metadata": {},
   "outputs": [
    {
     "data": {
      "text/plain": [
       "53.855845498582106"
      ]
     },
     "execution_count": 99,
     "metadata": {},
     "output_type": "execute_result"
    }
   ],
   "source": [
    "all_mean"
   ]
  },
  {
   "cell_type": "code",
   "execution_count": 100,
   "metadata": {},
   "outputs": [
    {
     "data": {
      "text/plain": [
       "42.465118386608154"
      ]
     },
     "execution_count": 100,
     "metadata": {},
     "output_type": "execute_result"
    }
   ],
   "source": [
    "all_std"
   ]
  },
  {
   "cell_type": "code",
   "execution_count": 115,
   "metadata": {},
   "outputs": [
    {
     "name": "stderr",
     "output_type": "stream",
     "text": [
      "/usr/local/lib/python3.7/site-packages/matplotlib/axes/_axes.py:6462: UserWarning: The 'normed' kwarg is deprecated, and has been replaced by the 'density' kwarg.\n",
      "  warnings.warn(\"The 'normed' kwarg is deprecated, and has been \"\n",
      "/usr/local/lib/python3.7/site-packages/ipykernel_launcher.py:5: MatplotlibDeprecationWarning: scipy.stats.norm.pdf\n",
      "  \"\"\"\n"
     ]
    },
    {
     "data": {
      "text/plain": [
       "[<matplotlib.lines.Line2D at 0x12549f438>]"
      ]
     },
     "execution_count": 115,
     "metadata": {},
     "output_type": "execute_result"
    },
    {
     "data": {
      "image/png": "[encoded data removed]",
      "text/plain": [
       "<Figure size 864x576 with 1 Axes>"
      ]
     },
     "metadata": {
      "needs_background": "light"
     },
     "output_type": "display_data"
    }
   ],
   "source": [
    "fig = plt.figure(figsize=(12,8))\n",
    "\n",
    "num_bins = 100\n",
    "n, bins, patches = plt.hist(df['fare'], num_bins,normed=1, facecolor='blue', alpha=0.5) \n",
    "y = mlab.normpdf(bins, all_mean, all_std)\n",
    "plt.plot(bins, y, 'r--')  "
   ]
  },
  {
   "cell_type": "code",
   "execution_count": 69,
   "metadata": {},
   "outputs": [],
   "source": [
    "temp = df['fare']"
   ]
  },
  {
   "cell_type": "code",
   "execution_count": null,
   "metadata": {},
   "outputs": [],
   "source": []
  }
 ],
 "metadata": {
  "kernelspec": {
   "display_name": "Python 3",
   "language": "python",
   "name": "python3"
  },
  "language_info": {
   "codemirror_mode": {
    "name": "ipython",
    "version": 3
   },
   "file_extension": ".py",
   "mimetype": "text/x-python",
   "name": "python",
   "nbconvert_exporter": "python",
   "pygments_lexer": "ipython3",
   "version": "3.7.2"
  }
 },
 "nbformat": 4,
 "nbformat_minor": 2
}
