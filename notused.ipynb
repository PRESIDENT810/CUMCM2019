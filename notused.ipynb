{
 "cells": [
  {
   "cell_type": "code",
   "execution_count": 31,
   "metadata": {},
   "outputs": [],
   "source": [
    "import numpy as np\n",
    "from scipy import stats\n",
    "import matplotlib.pyplot as plt"
   ]
  },
  {
   "cell_type": "code",
   "execution_count": 40,
   "metadata": {},
   "outputs": [],
   "source": [
    "def f_t(x):\n",
    "    mean = 54\n",
    "    std = 42\n",
    "    result = stats.norm.pdf(x, loc=mean, scale=std )\n",
    "    return result"
   ]
  },
  {
   "cell_type": "code",
   "execution_count": 64,
   "metadata": {},
   "outputs": [],
   "source": [
    "def t_t(x):\n",
    "    lam = 1/28\n",
    "    result = stats.gamma.pdf(x, 1, scale=1/lam)\n",
    "    return result"
   ]
  },
  {
   "cell_type": "code",
   "execution_count": 66,
   "metadata": {},
   "outputs": [],
   "source": [
    "def s_t(x, last_s):\n",
    "    p = 0.36\n",
    "    s = ( p**x) *( (1-p)**(1-x) )\n",
    "    return last_s*s"
   ]
  },
  {
   "cell_type": "code",
   "execution_count": null,
   "metadata": {},
   "outputs": [],
   "source": [
    "# def h_t(last_f)"
   ]
  },
  {
   "cell_type": "code",
   "execution_count": 71,
   "metadata": {},
   "outputs": [],
   "source": [
    "def p_t(last_s, ft, tt, h, c):\n",
    "    '''\n",
    "    lasts: whether last trip is short trip\n",
    "    ft: the profit of the current trip\n",
    "    tt: the waiting time of this trip\n",
    "    h: complement time\n",
    "    c: cost of unit waiting time\n",
    "    '''\n",
    "    return last_s(ft-c*tt+c*h)"
   ]
  },
  {
   "cell_type": "code",
   "execution_count": null,
   "metadata": {},
   "outputs": [],
   "source": [
    "def insert_pos(alpha, beta, payoff):\n",
    "    return int(alpha * np.exp(-beta*payoff))"
   ]
  }
 ],
 "metadata": {
  "kernelspec": {
   "display_name": "Python 3",
   "language": "python",
   "name": "python3"
  },
  "language_info": {
   "codemirror_mode": {
    "name": "ipython",
    "version": 3
   },
   "file_extension": ".py",
   "mimetype": "text/x-python",
   "name": "python",
   "nbconvert_exporter": "python",
   "pygments_lexer": "ipython3",
   "version": "3.7.2"
  }
 },
 "nbformat": 4,
 "nbformat_minor": 2
}
