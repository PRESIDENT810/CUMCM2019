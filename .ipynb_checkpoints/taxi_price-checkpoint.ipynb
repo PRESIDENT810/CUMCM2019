{
 "cells": [
  {
   "cell_type": "code",
   "execution_count": 1,
   "metadata": {},
   "outputs": [],
   "source": [
    "import time\n",
    "from datetime import datetime\n",
    "from math import *"
   ]
  },
  {
   "cell_type": "code",
   "execution_count": 2,
   "metadata": {},
   "outputs": [],
   "source": [
    "def getTimeResult(currentTime):\n",
    "    parts = currentTime.split(' ')\n",
    "#     print(parts)\n",
    "    time_now = parts[0] + ' ' + parts[1]\n",
    "    result = datetime.strptime(time_now, '%Y/%m/%d %H:%M')\n",
    "    return result"
   ]
  },
  {
   "cell_type": "code",
   "execution_count": 3,
   "metadata": {},
   "outputs": [],
   "source": [
    "def convert_timedelta(duration):\n",
    "    days, seconds = duration.days, duration.seconds\n",
    "    hours = days * 24 + seconds // 3600\n",
    "    minutes = (seconds % 3600) // 60\n",
    "    seconds = (seconds % 60)\n",
    "    return hours, minutes, seconds"
   ]
  },
  {
   "cell_type": "code",
   "execution_count": 4,
   "metadata": {},
   "outputs": [],
   "source": [
    "def getCurrentHour(currentTime):\n",
    "    result = getTimeResult(currentTime)\n",
    "    hour = result.hour\n",
    "    return hour"
   ]
  },
  {
   "cell_type": "code",
   "execution_count": 5,
   "metadata": {},
   "outputs": [],
   "source": [
    "import math\n",
    "\n",
    "def getDistance(origin, destination):\n",
    "    lon1, lat1 = origin\n",
    "    lon2, lat2 = destination\n",
    "    radius = 6371 # km\n",
    "\n",
    "    dlat = math.radians(lat2-lat1)\n",
    "    dlon = math.radians(lon2-lon1)\n",
    "    a = math.sin(dlat/2) * math.sin(dlat/2) + math.cos(math.radians(lat1)) \\\n",
    "        * math.cos(math.radians(lat2)) * math.sin(dlon/2) * math.sin(dlon/2)\n",
    "    c = 2 * math.atan2(math.sqrt(a), math.sqrt(1-a))\n",
    "    d = radius * c\n",
    "\n",
    "    return d\n",
    "    "
   ]
  },
  {
   "cell_type": "code",
   "execution_count": 6,
   "metadata": {},
   "outputs": [],
   "source": [
    "def getTimeIntervalInMinutes(begin_time, end_time):\n",
    "    result_begin = getTimeResult(begin_time)\n",
    "    result_end = getTimeResult(end_time)\n",
    "    delta = result_end - result_begin\n",
    "    hours, minutes, seconds = convert_timedelta(delta)\n",
    "    mins = hours * 60 + minutes\n",
    "    return mins\n",
    "    "
   ]
  },
  {
   "cell_type": "code",
   "execution_count": 7,
   "metadata": {},
   "outputs": [],
   "source": [
    "# getTimeIntervalInMinutes('2011/4/18 20:07', '2011/4/18 21:15')"
   ]
  },
  {
   "cell_type": "code",
   "execution_count": 8,
   "metadata": {},
   "outputs": [],
   "source": [
    "# taxi driver pricing model\n",
    "resource = \"https://opendata.sz.gov.cn/data/dataSet/toDataDetails/29200_04303267\"\n",
    "# start_price 10 yuan/ 2 kilometer\n",
    "# kilo_price 2.6 yuan / kilometer\n",
    "# min_price 0.8 yuan / min\n",
    "# For the part exceed 25 kilometer, add 30% of the kilo_price\n",
    "# For the part exceed 50 kilometer, add 60% of the kilo_price\n",
    "\n",
    "# for time later than 23, add 30% to kilo_price and start price\n",
    "def taxi_price(origin, destination, begin_time, end_time):\n",
    "    time_interval = getTimeIntervalInMinutes(begin_time, end_time)\n",
    "    currentHour = getCurrentHour(begin_time)\n",
    "    real_distance = getDistance(origin, destination)\n",
    "    final_price = 0\n",
    "    min_price = 0.8 * time_interval\n",
    "    \n",
    "    print(time_interval, currentHour, real_distance, min_price)\n",
    "    if real_distance < 2:\n",
    "        final_price = 10 + min_price\n",
    "    elif real_distance > 25:\n",
    "        final_price = 10 + (25 - 2) * 2.6 + (real_distance - 25) * 1.3 * 2.6 + min_price\n",
    "    elif real_distance > 50:\n",
    "        final_price = 10 + (25 - 2) * 2.6 + 25 * 1.3 * 2.6 + (real_distance - 50) * 1.6 * 2.6 + min_price\n",
    "    \n",
    "    if currentHour > 23:\n",
    "        final_price *= 1.3\n",
    "    return final_price\n",
    "\n"
   ]
  },
  {
   "cell_type": "code",
   "execution_count": 9,
   "metadata": {},
   "outputs": [
    {
     "name": "stdout",
     "output_type": "stream",
     "text": [
      "4 0 0.8824961820049178 3.2\n"
     ]
    },
    {
     "data": {
      "text/plain": [
       "13.2"
      ]
     },
     "execution_count": 9,
     "metadata": {},
     "output_type": "execute_result"
    }
   ],
   "source": [
    "# For example\n",
    "taxi_price([114.25518, 22.716784],[114.252953,22.709118], '2011/4/18 0:02','2011/4/18 0:06')"
   ]
  },
  {
   "cell_type": "code",
   "execution_count": null,
   "metadata": {},
   "outputs": [],
   "source": []
  },
  {
   "cell_type": "code",
   "execution_count": null,
   "metadata": {},
   "outputs": [],
   "source": []
  }
 ],
 "metadata": {
  "kernelspec": {
   "display_name": "Python 3",
   "language": "python",
   "name": "python3"
  },
  "language_info": {
   "codemirror_mode": {
    "name": "ipython",
    "version": 3
   },
   "file_extension": ".py",
   "mimetype": "text/x-python",
   "name": "python",
   "nbconvert_exporter": "python",
   "pygments_lexer": "ipython3",
   "version": "3.7.2"
  }
 },
 "nbformat": 4,
 "nbformat_minor": 2
}
