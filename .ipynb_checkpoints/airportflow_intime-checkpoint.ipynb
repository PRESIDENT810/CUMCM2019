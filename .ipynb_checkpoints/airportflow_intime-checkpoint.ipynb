{
 "cells": [
  {
   "cell_type": "code",
   "execution_count": 1,
   "metadata": {},
   "outputs": [],
   "source": [
    "import pandas as pd\n",
    "from datetime import datetime"
   ]
  },
  {
   "cell_type": "code",
   "execution_count": 2,
   "metadata": {},
   "outputs": [],
   "source": [
    "def getULCustNum(currentTime):\n",
    "    def getTimeResult(currentTime):\n",
    "        parts = currentTime.split(' ')\n",
    "    #     print(parts)\n",
    "        time_now = parts[0] + ' ' + parts[1]\n",
    "        result = datetime.strptime(time_now, '%Y/%m/%d %H:%M')\n",
    "        return result\n",
    "    def getMinutesFromZero(dt_obj):\n",
    "        hour = dt_obj.hour\n",
    "        mins = dt_obj.minute\n",
    "        return hour * 60 + mins\n",
    "    def getULCustNumIn(currentTime):\n",
    "        currentTime = '2011/4/18 0:02'\n",
    "        result = getTimeResult(currentTime)\n",
    "        # dir(result)\n",
    "        week_day = result.weekday()\n",
    "        mins_for_input_time = getMinutesFromZero(result)\n",
    "        # print(mins_for_input_time)\n",
    "        df\n",
    "        # result_df = df.query('(day_time < mins_for_input_time) and (day_time - 15 < mins_for_input_time))')\n",
    "        upper = df[df['day_time']<mins_for_input_time].iloc[-1, (week_day+1)]\n",
    "        lower = df[df['day_time']>mins_for_input_time].iloc[0, (week_day+1)]\n",
    "        return upper, lower\n",
    "    df = pd.read_excel('../港口人数.xlsx')\n",
    "    # get a new columns in df\n",
    "    df['day_time'] = pd.to_datetime(df['时刻'], format='%H:%M')\n",
    "    df['day_time'] = df['day_time'].apply(getMinutesFromZero)\n",
    "    # df\n",
    "    return getULCustNumIn(currentTime)\n",
    "    "
   ]
  },
  {
   "cell_type": "code",
   "execution_count": 3,
   "metadata": {},
   "outputs": [
    {
     "data": {
      "text/plain": [
       "(682, 1572)"
      ]
     },
     "execution_count": 3,
     "metadata": {},
     "output_type": "execute_result"
    }
   ],
   "source": [
    "currentTime = '2011/4/18 0:02'\n",
    "getULCustNum(currentTime)"
   ]
  },
  {
   "cell_type": "code",
   "execution_count": null,
   "metadata": {},
   "outputs": [],
   "source": [
    "    "
   ]
  },
  {
   "cell_type": "code",
   "execution_count": null,
   "metadata": {},
   "outputs": [],
   "source": [
    "    "
   ]
  },
  {
   "cell_type": "code",
   "execution_count": null,
   "metadata": {},
   "outputs": [],
   "source": [
    "    "
   ]
  },
  {
   "cell_type": "code",
   "execution_count": null,
   "metadata": {},
   "outputs": [],
   "source": []
  },
  {
   "cell_type": "code",
   "execution_count": null,
   "metadata": {},
   "outputs": [],
   "source": []
  }
 ],
 "metadata": {
  "kernelspec": {
   "display_name": "Python 3",
   "language": "python",
   "name": "python3"
  },
  "language_info": {
   "codemirror_mode": {
    "name": "ipython",
    "version": 3
   },
   "file_extension": ".py",
   "mimetype": "text/x-python",
   "name": "python",
   "nbconvert_exporter": "python",
   "pygments_lexer": "ipython3",
   "version": "3.7.2"
  }
 },
 "nbformat": 4,
 "nbformat_minor": 2
}
