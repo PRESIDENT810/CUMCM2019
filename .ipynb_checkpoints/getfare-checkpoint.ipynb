{
 "cells": [
  {
   "cell_type": "code",
   "execution_count": 1,
   "metadata": {},
   "outputs": [],
   "source": [
    "import time\n",
    "from datetime import datetime\n",
    "from math import *\n",
    "def getfare(origin, destination, begin_time, end_time):\n",
    "    def getTimeResult(currentTime):\n",
    "        parts = currentTime.split(' ')\n",
    "    #     print(parts)\n",
    "        time_now = parts[0] + ' ' + parts[1]\n",
    "        result = datetime.strptime(time_now, '%Y/%m/%d %H:%M:%S')\n",
    "        return result\n",
    "\n",
    "    def convert_timedelta(duration):\n",
    "        days, seconds = duration.days, duration.seconds\n",
    "        hours = days * 24 + seconds // 3600\n",
    "        minutes = (seconds % 3600) // 60\n",
    "        seconds = (seconds % 60)\n",
    "        return hours, minutes, seconds\n",
    "\n",
    "    def getCurrentHour(currentTime):\n",
    "        result = getTimeResult(currentTime)\n",
    "        hour = result.hour\n",
    "        return hour\n",
    "\n",
    "    import math\n",
    "\n",
    "    def getDistance(origin, destination):\n",
    "        lon1, lat1 = origin\n",
    "        lon2, lat2 = destination\n",
    "        radius = 6371 # km\n",
    "\n",
    "        dlat = math.radians(lat2-lat1)\n",
    "        dlon = math.radians(lon2-lon1)\n",
    "        a = math.sin(dlat/2) * math.sin(dlat/2) + math.cos(math.radians(lat1)) \\\n",
    "            * math.cos(math.radians(lat2)) * math.sin(dlon/2) * math.sin(dlon/2)\n",
    "        c = 2 * math.atan2(math.sqrt(a), math.sqrt(1-a))\n",
    "        d = radius * c\n",
    "\n",
    "        return d\n",
    "\n",
    "    def getTimeIntervalInMinutes(begin_time, end_time):\n",
    "        result_begin = getTimeResult(begin_time)\n",
    "        result_end = getTimeResult(end_time)\n",
    "        delta = result_end - result_begin\n",
    "        hours, minutes, seconds = convert_timedelta(delta)\n",
    "        mins = hours * 60 + minutes\n",
    "        return mins\n",
    "\n",
    "    # taxi driver pricing model\n",
    "    resource = \"https://opendata.sz.gov.cn/data/dataSet/toDataDetails/29200_04303267\"\n",
    "    # start_price 10 yuan/ 2 kilometer\n",
    "    # kilo_price 2.6 yuan / kilometer\n",
    "    # min_price 0.8 yuan / min\n",
    "    # For the part exceed 25 kilometer, add 30% of the kilo_price\n",
    "    # For the part exceed 50 kilometer, add 60% of the kilo_price\n",
    "\n",
    "    # for time later than 23, add 30% to kilo_price and start price\n",
    "    def get_price(origin, destination, begin_time, end_time):\n",
    "        time_interval = getTimeIntervalInMinutes(begin_time, end_time)\n",
    "        currentHour = getCurrentHour(begin_time)\n",
    "        real_distance = getDistance(origin, destination)\n",
    "        final_price = 0\n",
    "        min_price = 0.8 * time_interval\n",
    "\n",
    "    #     print(time_interval, currentHour, real_distance, min_price)\n",
    "        if real_distance < 2:\n",
    "            final_price = 10 + min_price\n",
    "        elif real_distance > 25:\n",
    "            final_price = 10 + (25 - 2) * 2.6 + (real_distance - 25) * 1.3 * 2.6 + min_price\n",
    "        elif real_distance > 50:\n",
    "            final_price = 10 + (25 - 2) * 2.6 + 25 * 1.3 * 2.6 + (real_distance - 50) * 1.6 * 2.6 + min_price\n",
    "\n",
    "        if currentHour > 23:\n",
    "            final_price *= 1.3\n",
    "        return final_price\n",
    "    return get_price(origin, destination, begin_time, end_time)\n"
   ]
  },
  {
   "cell_type": "code",
   "execution_count": 2,
   "metadata": {},
   "outputs": [
    {
     "data": {
      "text/plain": [
       "10.8"
      ]
     },
     "execution_count": 2,
     "metadata": {},
     "output_type": "execute_result"
    }
   ],
   "source": [
    "import pandas as pd\n",
    "df = pd.read_csv('./粤B14A40.csv')\n",
    "result = df.iloc[1,:]\n",
    "result2 = df.iloc[5,:]\n",
    "result,result2\n",
    "getfare([result['jd'], result['wd']], [result2['jd'], result2['wd']],result['time'],result2['time'])"
   ]
  },
  {
   "cell_type": "code",
   "execution_count": null,
   "metadata": {},
   "outputs": [],
   "source": []
  }
 ],
 "metadata": {
  "kernelspec": {
   "display_name": "Python 3",
   "language": "python",
   "name": "python3"
  },
  "language_info": {
   "codemirror_mode": {
    "name": "ipython",
    "version": 3
   },
   "file_extension": ".py",
   "mimetype": "text/x-python",
   "name": "python",
   "nbconvert_exporter": "python",
   "pygments_lexer": "ipython3",
   "version": "3.7.2"
  }
 },
 "nbformat": 4,
 "nbformat_minor": 2
}
