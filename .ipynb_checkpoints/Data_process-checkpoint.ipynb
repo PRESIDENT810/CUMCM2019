{
 "cells": [
  {
   "cell_type": "code",
   "execution_count": 1,
   "metadata": {},
   "outputs": [],
   "source": [
    "import pandas as pd\n",
    "import numpy as np\n",
    "import matplotlib.pyplot as plt\n",
    "import seaborn as sns"
   ]
  },
  {
   "cell_type": "code",
   "execution_count": 2,
   "metadata": {},
   "outputs": [],
   "source": [
    "%matplotlib inline"
   ]
  },
  {
   "cell_type": "code",
   "execution_count": 3,
   "metadata": {},
   "outputs": [],
   "source": [
    "import os\n",
    "import warnings\n",
    "warnings.filterwarnings('ignore')"
   ]
  },
  {
   "cell_type": "code",
   "execution_count": 4,
   "metadata": {},
   "outputs": [],
   "source": [
    "### some utility functions\n",
    "\n",
    "from datetime import datetime\n",
    "def getULCustNum(currentTime):\n",
    "    def getTimeResult(currentTime):\n",
    "        parts = currentTime.split(' ')\n",
    "    #     print(parts)\n",
    "        time_now = parts[0] + ' ' + parts[1]\n",
    "        result = datetime.strptime(time_now, '%Y/%m/%d %H:%M:%S')\n",
    "        return result\n",
    "    def getMinutesFromZero(dt_obj):\n",
    "        hour = dt_obj.hour\n",
    "        mins = dt_obj.minute\n",
    "        return hour * 60 + mins\n",
    "    def getULCustNumIn(currentTime):\n",
    "#         currentTime = '2011/4/18 0:02'\n",
    "        result = getTimeResult(currentTime)\n",
    "        # dir(result)\n",
    "        week_day = result.weekday()\n",
    "        mins_for_input_time = getMinutesFromZero(result)\n",
    "#         print(mins_for_input_time)\n",
    "        \n",
    "        # result_df = df.query('(day_time < mins_for_input_time) and (day_time - 15 < mins_for_input_time))')\n",
    "        upper = df[df['day_time']<mins_for_input_time].iloc[-1, (week_day+1)]\n",
    "        return upper\n",
    "    \n",
    "    df = pd.read_excel('./utils/港口人数.xlsx')\n",
    "    # get a new columns in df\n",
    "    df['day_time'] = pd.to_datetime(df['时刻'], format='%H:%M')\n",
    "    df['day_time'] = df['day_time'].apply(getMinutesFromZero)\n",
    "\n",
    "    try:\n",
    "        return getULCustNumIn(currentTime)\n",
    "    except:\n",
    "        return 23 * 60\n",
    "\n",
    "### calculate time function\n",
    "def convert_timedelta(duration):\n",
    "    days, seconds = duration.days, duration.seconds\n",
    "    hours = days * 24 + seconds // 3600\n",
    "    minutes = (seconds % 3600) // 60\n",
    "    seconds = (seconds % 60)\n",
    "    return hours, minutes, seconds\n",
    "def getTimeResult(currentTime):\n",
    "    parts = currentTime.split(' ')\n",
    "#     print(parts)\n",
    "    time_now = parts[0] + ' ' + parts[1]\n",
    "    result = datetime.strptime(time_now, '%Y/%m/%d %H:%M:%S')\n",
    "    return result\n",
    "def getMinutes(begin_time, end_time):\n",
    "    result_begin = getTimeResult(begin_time)\n",
    "    result_end = getTimeResult(end_time)\n",
    "    delta = result_end - result_begin\n",
    "    hours, minutes, seconds = convert_timedelta(delta)\n",
    "    mins = hours * 60 + minutes\n",
    "    return mins\n",
    "def getDuration(row):\n",
    "    return getMinutes(row['StartTime'], row['EndTime'])"
   ]
  },
  {
   "cell_type": "code",
   "execution_count": 5,
   "metadata": {},
   "outputs": [],
   "source": [
    "filenames = os.listdir('./track_exp/')"
   ]
  },
  {
   "cell_type": "code",
   "execution_count": 6,
   "metadata": {},
   "outputs": [],
   "source": [
    "df = pd.DataFrame({\n",
    "    ### feature\n",
    "    'CarID': [], ### the ID of this car\n",
    "    'StartTime': [], ### when the car start waiting\n",
    "    'WaitingTime': [], ### how long the car has been waiting\n",
    "    'Drop': [], ### True means the driver dropped passengers to the airport; False means otherwise\n",
    "    'Outflow': [], ### the passenger outflow half an hour ago\n",
    "    'AvgProfit': [], ### the average profit of this driver's trip of that day\n",
    "    'AvgTime': [], ### the average time of this driver's trip of that day\n",
    "    'AvgSpeed': [], ### the average speed of this driver's trip of that day\n",
    "    'AvgDistance': [], ### the average distance of this driver's trip of that day\n",
    "    'TotalTrips': [], ### total number of trips of this driver of that day\n",
    "    'AirportRatio': [], ### the ratio of the time when the driver is in the airport\n",
    "    'CabNum': [], ### how many taxis waiting in the airport at the same time\n",
    "    \n",
    "    ### label\n",
    "    'Pick': [], ### True means the driver picked passengers; False means the driver gave up waiting and left\n",
    "    \n",
    "    ### to be dropped (uesless feature, only for computation use)\n",
    "    'hour': [], ### the hour when the driver is in the airport\n",
    "})"
   ]
  },
  {
   "cell_type": "code",
   "execution_count": 7,
   "metadata": {},
   "outputs": [],
   "source": [
    "def get_period(file_name):\n",
    "    try:\n",
    "        period_df = pd.read_csv('./PeriodData/period_%s'%file_name)\n",
    "        return period_df, True\n",
    "    except:\n",
    "        return None, False\n",
    "\n",
    "def get_trip(file_name):\n",
    "    try:\n",
    "        trip_df = pd.read_csv('./TripData/trip_%s'%file_name)\n",
    "        return trip_df, True\n",
    "    except:\n",
    "        return None, False\n",
    "\n",
    "def get_alltrip(file_name):\n",
    "    try:\n",
    "        all_df = pd.read_csv('./track_exp/%s'%file_name)\n",
    "        return all_df, True\n",
    "    except:\n",
    "        return None, False"
   ]
  },
  {
   "cell_type": "code",
   "execution_count": 8,
   "metadata": {},
   "outputs": [],
   "source": [
    "def get_dateinfo(trip_df, date):\n",
    "    trip_df['date'] = trip_df.apply(lambda x: x['StartTime'][:10],axis=1)\n",
    "    trip_df['duration'] = trip_df.apply(getDuration,axis=1)\n",
    "    date_df = trip_df[trip_df['date']==date]   \n",
    "    AvgProfit = np.mean(date_df['fare'])\n",
    "    AvgTime = np.mean(date_df['duration'])\n",
    "    AvgSpeed = np.mean(date_df['Avg_speed'])\n",
    "    AvgDistance = np.mean(date_df['Distance'])\n",
    "    TotalTrips = date_df.shape[0]\n",
    "    return AvgProfit, AvgTime, AvgSpeed, AvgDistance, TotalTrips"
   ]
  },
  {
   "cell_type": "code",
   "execution_count": 9,
   "metadata": {},
   "outputs": [],
   "source": [
    "for filename in filenames:\n",
    "    period_df, p_available = get_period(filename)\n",
    "    trip_df, t_available = get_trip(filename)\n",
    "#     all_df, a_available = get_alltrip(filename)\n",
    "    \n",
    "    if not (p_available and t_available):\n",
    "        continue\n",
    "    \n",
    "    CarID = filename[:-4]\n",
    "    \n",
    "    for row in period_df.iterrows():\n",
    "        row = row[1]\n",
    "        StartTime = row['StartWaiting']\n",
    "        date = row['StartWaiting'][:10]\n",
    "        WaitingTime = row['duration']\n",
    "        Drop = row['drop']\n",
    "        Outflow = getULCustNum(StartTime)\n",
    "        AirportRatio = np.sum(period_df['duration'])/(24*60)\n",
    "        AvgProfit, AvgTime, AvgSpeed, AvgDistance, TotalTrips = get_dateinfo(trip_df, date)\n",
    "        CabNum = 0 ### TODO: finish this function\n",
    "        Pick = row['pick']\n",
    "        hour = row['StartWaiting'][11:13]\n",
    "        \n",
    "        df.loc[df.shape[0]+1] = {\n",
    "            'CarID': CarID, \n",
    "            'StartTime': StartTime, \n",
    "            'WaitingTime': WaitingTime, \n",
    "            'Drop': Drop, \n",
    "            'Outflow': Outflow, \n",
    "            'AvgProfit': AvgProfit, \n",
    "            'AvgTime': AvgTime, \n",
    "            'AvgSpeed': AvgSpeed, \n",
    "            'AvgDistance': AvgDistance, \n",
    "            'TotalTrips': TotalTrips, \n",
    "            'AirportRatio': AirportRatio, \n",
    "            'CabNum': CabNum, \n",
    "            'Pick': Pick, \n",
    "            'hour': hour,\n",
    "        }"
   ]
  },
  {
   "cell_type": "code",
   "execution_count": 10,
   "metadata": {},
   "outputs": [],
   "source": [
    "def get_cabnum(row):\n",
    "    return df[df['hour']==row['hour']].shape[0]"
   ]
  },
  {
   "cell_type": "code",
   "execution_count": 11,
   "metadata": {},
   "outputs": [],
   "source": [
    "df['CabNum'] = df.apply(get_cabnum,axis=1)"
   ]
  },
  {
   "cell_type": "code",
   "execution_count": 12,
   "metadata": {},
   "outputs": [],
   "source": [
    "### rule out irrational data\n",
    "df = df.fillna(0)\n",
    "df = df[(df['WaitingTime']<=200) & (df['WaitingTime']>=0)]\n",
    "df = df[(df['AvgProfit']<=500) & (df['AvgProfit']>=0)]\n",
    "df = df[(df['AvgTime']<=700) & (df['AvgTime']>=0)]"
   ]
  },
  {
   "cell_type": "code",
   "execution_count": 13,
   "metadata": {},
   "outputs": [],
   "source": [
    "df.to_csv('useable_data.csv')"
   ]
  }
 ],
 "metadata": {
  "kernelspec": {
   "display_name": "Python 3",
   "language": "python",
   "name": "python3"
  },
  "language_info": {
   "codemirror_mode": {
    "name": "ipython",
    "version": 3
   },
   "file_extension": ".py",
   "mimetype": "text/x-python",
   "name": "python",
   "nbconvert_exporter": "python",
   "pygments_lexer": "ipython3",
   "version": "3.7.2"
  }
 },
 "nbformat": 4,
 "nbformat_minor": 2
}
