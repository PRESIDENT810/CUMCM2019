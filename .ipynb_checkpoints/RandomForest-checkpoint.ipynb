{
 "cells": [
  {
   "cell_type": "code",
   "execution_count": 1,
   "metadata": {},
   "outputs": [],
   "source": [
    "import pandas as pd\n",
    "import numpy as np\n",
    "import matplotlib.pyplot as plt\n",
    "import seaborn as sns"
   ]
  },
  {
   "cell_type": "markdown",
   "metadata": {},
   "source": [
    "### Split data"
   ]
  },
  {
   "cell_type": "code",
   "execution_count": 2,
   "metadata": {},
   "outputs": [],
   "source": [
    "from sklearn.model_selection import train_test_split"
   ]
  },
  {
   "cell_type": "code",
   "execution_count": 3,
   "metadata": {},
   "outputs": [],
   "source": [
    "df = pd.read_csv('./ready_to_train.csv',index_col=0)"
   ]
  },
  {
   "cell_type": "code",
   "execution_count": 4,
   "metadata": {},
   "outputs": [],
   "source": [
    "train_data,test_data = train_test_split(df,test_size=0.3)"
   ]
  },
  {
   "cell_type": "code",
   "execution_count": 5,
   "metadata": {},
   "outputs": [],
   "source": [
    "train_y = np.array(train_data[\"Pick\"])\n",
    "test_y = np.array(test_data[\"Pick\"])"
   ]
  },
  {
   "cell_type": "code",
   "execution_count": 6,
   "metadata": {},
   "outputs": [],
   "source": [
    "train_X = train_data.drop(labels=[\"Pick\"],axis=1)\n",
    "test_X = test_data.drop(labels=[\"Pick\"],axis=1)"
   ]
  },
  {
   "cell_type": "code",
   "execution_count": 7,
   "metadata": {},
   "outputs": [
    {
     "data": {
      "text/html": [
       "<div>\n",
       "<style scoped>\n",
       "    .dataframe tbody tr th:only-of-type {\n",
       "        vertical-align: middle;\n",
       "    }\n",
       "\n",
       "    .dataframe tbody tr th {\n",
       "        vertical-align: top;\n",
       "    }\n",
       "\n",
       "    .dataframe thead th {\n",
       "        text-align: right;\n",
       "    }\n",
       "</style>\n",
       "<table border=\"1\" class=\"dataframe\">\n",
       "  <thead>\n",
       "    <tr style=\"text-align: right;\">\n",
       "      <th></th>\n",
       "      <th>WaitingTime</th>\n",
       "      <th>Drop</th>\n",
       "      <th>Outflow</th>\n",
       "      <th>AvgProfit</th>\n",
       "      <th>AvgTime</th>\n",
       "      <th>AvgDistance</th>\n",
       "      <th>TotalTrips</th>\n",
       "      <th>AirportRatio</th>\n",
       "      <th>CabNum</th>\n",
       "      <th>DayTime_Evening</th>\n",
       "      <th>DayTime_Morning</th>\n",
       "      <th>DayTime_Noon</th>\n",
       "    </tr>\n",
       "  </thead>\n",
       "  <tbody>\n",
       "    <tr>\n",
       "      <th>3759</th>\n",
       "      <td>50.0</td>\n",
       "      <td>1.0</td>\n",
       "      <td>1333.0</td>\n",
       "      <td>25.050820</td>\n",
       "      <td>10.214286</td>\n",
       "      <td>0.050455</td>\n",
       "      <td>28.0</td>\n",
       "      <td>0.269444</td>\n",
       "      <td>313</td>\n",
       "      <td>1</td>\n",
       "      <td>0</td>\n",
       "      <td>0</td>\n",
       "    </tr>\n",
       "    <tr>\n",
       "      <th>7824</th>\n",
       "      <td>2.0</td>\n",
       "      <td>1.0</td>\n",
       "      <td>1164.0</td>\n",
       "      <td>21.504206</td>\n",
       "      <td>12.568627</td>\n",
       "      <td>0.053421</td>\n",
       "      <td>51.0</td>\n",
       "      <td>0.041667</td>\n",
       "      <td>397</td>\n",
       "      <td>0</td>\n",
       "      <td>1</td>\n",
       "      <td>0</td>\n",
       "    </tr>\n",
       "    <tr>\n",
       "      <th>1376</th>\n",
       "      <td>5.0</td>\n",
       "      <td>0.0</td>\n",
       "      <td>1102.0</td>\n",
       "      <td>0.000000</td>\n",
       "      <td>0.000000</td>\n",
       "      <td>0.000000</td>\n",
       "      <td>0.0</td>\n",
       "      <td>0.048611</td>\n",
       "      <td>414</td>\n",
       "      <td>0</td>\n",
       "      <td>0</td>\n",
       "      <td>1</td>\n",
       "    </tr>\n",
       "    <tr>\n",
       "      <th>2324</th>\n",
       "      <td>45.0</td>\n",
       "      <td>0.0</td>\n",
       "      <td>838.0</td>\n",
       "      <td>14.368974</td>\n",
       "      <td>8.195122</td>\n",
       "      <td>0.024402</td>\n",
       "      <td>41.0</td>\n",
       "      <td>0.072917</td>\n",
       "      <td>1002</td>\n",
       "      <td>0</td>\n",
       "      <td>1</td>\n",
       "      <td>0</td>\n",
       "    </tr>\n",
       "    <tr>\n",
       "      <th>2342</th>\n",
       "      <td>5.0</td>\n",
       "      <td>0.0</td>\n",
       "      <td>0.0</td>\n",
       "      <td>13.266320</td>\n",
       "      <td>5.370370</td>\n",
       "      <td>0.013231</td>\n",
       "      <td>54.0</td>\n",
       "      <td>0.017361</td>\n",
       "      <td>392</td>\n",
       "      <td>0</td>\n",
       "      <td>0</td>\n",
       "      <td>1</td>\n",
       "    </tr>\n",
       "  </tbody>\n",
       "</table>\n",
       "</div>"
      ],
      "text/plain": [
       "      WaitingTime  Drop  Outflow  AvgProfit    AvgTime  AvgDistance  \\\n",
       "3759         50.0   1.0   1333.0  25.050820  10.214286     0.050455   \n",
       "7824          2.0   1.0   1164.0  21.504206  12.568627     0.053421   \n",
       "1376          5.0   0.0   1102.0   0.000000   0.000000     0.000000   \n",
       "2324         45.0   0.0    838.0  14.368974   8.195122     0.024402   \n",
       "2342          5.0   0.0      0.0  13.266320   5.370370     0.013231   \n",
       "\n",
       "      TotalTrips  AirportRatio  CabNum  DayTime_Evening  DayTime_Morning  \\\n",
       "3759        28.0      0.269444     313                1                0   \n",
       "7824        51.0      0.041667     397                0                1   \n",
       "1376         0.0      0.048611     414                0                0   \n",
       "2324        41.0      0.072917    1002                0                1   \n",
       "2342        54.0      0.017361     392                0                0   \n",
       "\n",
       "      DayTime_Noon  \n",
       "3759             0  \n",
       "7824             0  \n",
       "1376             1  \n",
       "2324             0  \n",
       "2342             1  "
      ]
     },
     "execution_count": 7,
     "metadata": {},
     "output_type": "execute_result"
    }
   ],
   "source": [
    "train_X.head()"
   ]
  },
  {
   "cell_type": "markdown",
   "metadata": {},
   "source": [
    "### Scale data"
   ]
  },
  {
   "cell_type": "code",
   "execution_count": 8,
   "metadata": {},
   "outputs": [],
   "source": [
    "from sklearn.preprocessing import StandardScaler"
   ]
  },
  {
   "cell_type": "code",
   "execution_count": 9,
   "metadata": {},
   "outputs": [],
   "source": [
    "def scale_data(data):\n",
    "    data_array = np.array(data)[:,np.newaxis]\n",
    "    data_scaler = StandardScaler().fit(data_array)\n",
    "    scaled_data = data_scaler.transform(data_array)[:,0]\n",
    "    return scaled_data"
   ]
  },
  {
   "cell_type": "code",
   "execution_count": 11,
   "metadata": {},
   "outputs": [
    {
     "name": "stderr",
     "output_type": "stream",
     "text": [
      "/usr/local/lib/python3.7/site-packages/sklearn/utils/validation.py:590: DataConversionWarning: Data with input dtype int64 was converted to float64 by StandardScaler.\n",
      "  warnings.warn(msg, DataConversionWarning)\n",
      "/usr/local/lib/python3.7/site-packages/sklearn/utils/validation.py:590: DataConversionWarning: Data with input dtype int64 was converted to float64 by StandardScaler.\n",
      "  warnings.warn(msg, DataConversionWarning)\n"
     ]
    }
   ],
   "source": [
    "train_X[\"WaitingTime\"] = scale_data(train_X[\"WaitingTime\"])\n",
    "train_X[\"Outflow\"] = scale_data(train_X[\"Outflow\"])\n",
    "train_X[\"AvgProfit\"] = scale_data(train_X[\"AvgProfit\"])\n",
    "train_X[\"AvgTime\"] = scale_data(train_X[\"AvgTime\"])\n",
    "train_X[\"AvgDistance\"] = scale_data(train_X[\"AvgDistance\"])\n",
    "train_X[\"TotalTrips\"] = scale_data(train_X[\"TotalTrips\"])\n",
    "train_X[\"AirportRatio\"] = scale_data(train_X[\"AirportRatio\"])\n",
    "train_X[\"CabNum\"] = scale_data(train_X[\"CabNum\"])"
   ]
  },
  {
   "cell_type": "code",
   "execution_count": 12,
   "metadata": {},
   "outputs": [
    {
     "name": "stderr",
     "output_type": "stream",
     "text": [
      "/usr/local/lib/python3.7/site-packages/sklearn/utils/validation.py:590: DataConversionWarning: Data with input dtype int64 was converted to float64 by StandardScaler.\n",
      "  warnings.warn(msg, DataConversionWarning)\n",
      "/usr/local/lib/python3.7/site-packages/sklearn/utils/validation.py:590: DataConversionWarning: Data with input dtype int64 was converted to float64 by StandardScaler.\n",
      "  warnings.warn(msg, DataConversionWarning)\n"
     ]
    }
   ],
   "source": [
    "test_X[\"WaitingTime\"] = scale_data(test_X[\"WaitingTime\"])\n",
    "test_X[\"Outflow\"] = scale_data(test_X[\"Outflow\"])\n",
    "test_X[\"AvgProfit\"] = scale_data(test_X[\"AvgProfit\"])\n",
    "test_X[\"AvgTime\"] = scale_data(test_X[\"AvgTime\"])\n",
    "test_X[\"AvgDistance\"] = scale_data(test_X[\"AvgDistance\"])\n",
    "test_X[\"TotalTrips\"] = scale_data(test_X[\"TotalTrips\"])\n",
    "test_X[\"AirportRatio\"] = scale_data(test_X[\"AirportRatio\"])\n",
    "test_X[\"CabNum\"] = scale_data(test_X[\"CabNum\"])"
   ]
  },
  {
   "cell_type": "code",
   "execution_count": 13,
   "metadata": {},
   "outputs": [
    {
     "data": {
      "text/html": [
       "<div>\n",
       "<style scoped>\n",
       "    .dataframe tbody tr th:only-of-type {\n",
       "        vertical-align: middle;\n",
       "    }\n",
       "\n",
       "    .dataframe tbody tr th {\n",
       "        vertical-align: top;\n",
       "    }\n",
       "\n",
       "    .dataframe thead th {\n",
       "        text-align: right;\n",
       "    }\n",
       "</style>\n",
       "<table border=\"1\" class=\"dataframe\">\n",
       "  <thead>\n",
       "    <tr style=\"text-align: right;\">\n",
       "      <th></th>\n",
       "      <th>WaitingTime</th>\n",
       "      <th>Drop</th>\n",
       "      <th>Outflow</th>\n",
       "      <th>AvgProfit</th>\n",
       "      <th>AvgTime</th>\n",
       "      <th>AvgDistance</th>\n",
       "      <th>TotalTrips</th>\n",
       "      <th>AirportRatio</th>\n",
       "      <th>CabNum</th>\n",
       "      <th>DayTime_Evening</th>\n",
       "      <th>DayTime_Morning</th>\n",
       "      <th>DayTime_Noon</th>\n",
       "    </tr>\n",
       "  </thead>\n",
       "  <tbody>\n",
       "    <tr>\n",
       "      <th>3759</th>\n",
       "      <td>0.819550</td>\n",
       "      <td>1.0</td>\n",
       "      <td>0.605590</td>\n",
       "      <td>0.364380</td>\n",
       "      <td>-0.138170</td>\n",
       "      <td>0.440421</td>\n",
       "      <td>-0.687765</td>\n",
       "      <td>-0.011102</td>\n",
       "      <td>-0.916640</td>\n",
       "      <td>1</td>\n",
       "      <td>0</td>\n",
       "      <td>0</td>\n",
       "    </tr>\n",
       "    <tr>\n",
       "      <th>7824</th>\n",
       "      <td>-0.984733</td>\n",
       "      <td>1.0</td>\n",
       "      <td>0.293825</td>\n",
       "      <td>0.111631</td>\n",
       "      <td>-0.055937</td>\n",
       "      <td>0.559830</td>\n",
       "      <td>0.889167</td>\n",
       "      <td>-0.012366</td>\n",
       "      <td>-0.491128</td>\n",
       "      <td>0</td>\n",
       "      <td>1</td>\n",
       "      <td>0</td>\n",
       "    </tr>\n",
       "    <tr>\n",
       "      <th>1376</th>\n",
       "      <td>-0.871965</td>\n",
       "      <td>0.0</td>\n",
       "      <td>0.179450</td>\n",
       "      <td>-1.420862</td>\n",
       "      <td>-0.494939</td>\n",
       "      <td>-1.590873</td>\n",
       "      <td>-2.607509</td>\n",
       "      <td>-0.012327</td>\n",
       "      <td>-0.405013</td>\n",
       "      <td>0</td>\n",
       "      <td>0</td>\n",
       "      <td>1</td>\n",
       "    </tr>\n",
       "    <tr>\n",
       "      <th>2324</th>\n",
       "      <td>0.631604</td>\n",
       "      <td>0.0</td>\n",
       "      <td>-0.307567</td>\n",
       "      <td>-0.396860</td>\n",
       "      <td>-0.208696</td>\n",
       "      <td>-0.608443</td>\n",
       "      <td>0.203544</td>\n",
       "      <td>-0.012193</td>\n",
       "      <td>2.573569</td>\n",
       "      <td>0</td>\n",
       "      <td>1</td>\n",
       "      <td>0</td>\n",
       "    </tr>\n",
       "    <tr>\n",
       "      <th>2342</th>\n",
       "      <td>-0.871965</td>\n",
       "      <td>0.0</td>\n",
       "      <td>-1.853477</td>\n",
       "      <td>-0.475440</td>\n",
       "      <td>-0.307360</td>\n",
       "      <td>-1.058184</td>\n",
       "      <td>1.094854</td>\n",
       "      <td>-0.012501</td>\n",
       "      <td>-0.516457</td>\n",
       "      <td>0</td>\n",
       "      <td>0</td>\n",
       "      <td>1</td>\n",
       "    </tr>\n",
       "  </tbody>\n",
       "</table>\n",
       "</div>"
      ],
      "text/plain": [
       "      WaitingTime  Drop   Outflow  AvgProfit   AvgTime  AvgDistance  \\\n",
       "3759     0.819550   1.0  0.605590   0.364380 -0.138170     0.440421   \n",
       "7824    -0.984733   1.0  0.293825   0.111631 -0.055937     0.559830   \n",
       "1376    -0.871965   0.0  0.179450  -1.420862 -0.494939    -1.590873   \n",
       "2324     0.631604   0.0 -0.307567  -0.396860 -0.208696    -0.608443   \n",
       "2342    -0.871965   0.0 -1.853477  -0.475440 -0.307360    -1.058184   \n",
       "\n",
       "      TotalTrips  AirportRatio    CabNum  DayTime_Evening  DayTime_Morning  \\\n",
       "3759   -0.687765     -0.011102 -0.916640                1                0   \n",
       "7824    0.889167     -0.012366 -0.491128                0                1   \n",
       "1376   -2.607509     -0.012327 -0.405013                0                0   \n",
       "2324    0.203544     -0.012193  2.573569                0                1   \n",
       "2342    1.094854     -0.012501 -0.516457                0                0   \n",
       "\n",
       "      DayTime_Noon  \n",
       "3759             0  \n",
       "7824             0  \n",
       "1376             1  \n",
       "2324             0  \n",
       "2342             1  "
      ]
     },
     "execution_count": 13,
     "metadata": {},
     "output_type": "execute_result"
    }
   ],
   "source": [
    "train_X.head()"
   ]
  },
  {
   "cell_type": "code",
   "execution_count": 14,
   "metadata": {},
   "outputs": [],
   "source": [
    "all_X = np.concatenate((train_X,test_X),axis=0)\n",
    "all_y = np.concatenate((train_y,test_y),axis=0)"
   ]
  },
  {
   "cell_type": "markdown",
   "metadata": {},
   "source": [
    "### Build models"
   ]
  },
  {
   "cell_type": "code",
   "execution_count": 15,
   "metadata": {},
   "outputs": [],
   "source": [
    "from sklearn.ensemble import RandomForestClassifier\n",
    "from sklearn.model_selection import cross_val_score\n",
    "from sklearn.model_selection import GridSearchCV"
   ]
  },
  {
   "cell_type": "markdown",
   "metadata": {},
   "source": [
    "### Draw learning curves"
   ]
  },
  {
   "cell_type": "code",
   "execution_count": 16,
   "metadata": {},
   "outputs": [],
   "source": [
    "from sklearn.model_selection import learning_curve"
   ]
  },
  {
   "cell_type": "code",
   "execution_count": 17,
   "metadata": {},
   "outputs": [],
   "source": [
    "def plot_learning_curve(estimator, title, X, y, ylim=None, cv=None, n_jobs=1, train_sizes=np.linspace(.1, 1.0, 5), verbose=0):\n",
    "    plt.figure()\n",
    "    plt.title(title)\n",
    "    if ylim is not None:\n",
    "        plt.ylim(*ylim)\n",
    "    plt.xlabel(\"Training examples\")\n",
    "    plt.ylabel(\"Score\")\n",
    "    train_sizes, train_scores, test_scores = learning_curve(\n",
    "        estimator, X, y, cv=cv, n_jobs=n_jobs, train_sizes=train_sizes)\n",
    "    train_scores_mean = np.mean(train_scores, axis=1)\n",
    "    train_scores_std = np.std(train_scores, axis=1)\n",
    "    test_scores_mean = np.mean(test_scores, axis=1)\n",
    "    test_scores_std = np.std(test_scores, axis=1)\n",
    "    plt.grid()\n",
    "\n",
    "    plt.fill_between(train_sizes, train_scores_mean - train_scores_std,\n",
    "                     train_scores_mean + train_scores_std, alpha=0.1,\n",
    "                     color=\"r\")\n",
    "    plt.fill_between(train_sizes, test_scores_mean - test_scores_std,\n",
    "                     test_scores_mean + test_scores_std, alpha=0.1, color=\"g\")\n",
    "    plt.plot(train_sizes, train_scores_mean, 'o-', color=\"r\",\n",
    "             label=\"Training score\")\n",
    "    plt.plot(train_sizes, test_scores_mean, 'o-', color=\"g\",\n",
    "             label=\"Cross-validation score\")\n",
    "\n",
    "    plt.legend(loc=\"best\")\n",
    "    return plt"
   ]
  },
  {
   "cell_type": "code",
   "execution_count": 18,
   "metadata": {},
   "outputs": [],
   "source": [
    "RF = RandomForestClassifier()\n",
    "RF_grid = {\n",
    "    \"n_estimators\": [5,10,20,50],\n",
    "    \"criterion\": [\"gini\",\"entropy\"],\n",
    "    \"min_samples_split\": [0.25,0.5,0.75,1.0],\n",
    "    \"oob_score\": [True,False],\n",
    "    \"n_jobs\": [-1],\n",
    "}\n",
    "gsRF = GridSearchCV(RF,param_grid=RF_grid,n_jobs=-1,cv=5)\n",
    "gsRF.fit(train_X,train_y)\n",
    "RF_best = gsRF.best_score_\n",
    "RF = gsRF.best_estimator_"
   ]
  },
  {
   "cell_type": "code",
   "execution_count": 19,
   "metadata": {},
   "outputs": [
    {
     "data": {
      "text/plain": [
       "<module 'matplotlib.pyplot' from '/usr/local/lib/python3.7/site-packages/matplotlib/pyplot.py'>"
      ]
     },
     "execution_count": 19,
     "metadata": {},
     "output_type": "execute_result"
    },
    {
     "data": {
      "image/png": "[encoded data removed]",
      "text/plain": [
       "<Figure size 432x288 with 1 Axes>"
      ]
     },
     "metadata": {
      "needs_background": "light"
     },
     "output_type": "display_data"
    }
   ],
   "source": [
    "plot_learning_curve(RF,title=\"RF learning_curve\",X=train_X,y=train_y,cv=10)"
   ]
  },
  {
   "cell_type": "code",
   "execution_count": 20,
   "metadata": {},
   "outputs": [
    {
     "name": "stdout",
     "output_type": "stream",
     "text": [
      "The best model's CV score is 0.7950913242009132\n"
     ]
    }
   ],
   "source": [
    "print('The best model\\'s CV score is {}'.format(RF_best))"
   ]
  },
  {
   "cell_type": "code",
   "execution_count": 21,
   "metadata": {},
   "outputs": [],
   "source": [
    "RF_CV_score_train = cross_val_score(RF,train_X,train_y,cv=10)\n",
    "RF_CV_score_test = cross_val_score(RF,test_X,test_y,cv=10)"
   ]
  },
  {
   "cell_type": "code",
   "execution_count": 22,
   "metadata": {},
   "outputs": [
    {
     "name": "stdout",
     "output_type": "stream",
     "text": [
      "Random forest cv train mean score:  0.7880959853270839\n",
      "Random forest cv test mean score:  0.7846320514672385\n"
     ]
    }
   ],
   "source": [
    "print(\"Random forest cv train mean score: \",RF_CV_score_train.mean())\n",
    "print(\"Random forest cv test mean score: \",RF_CV_score_test.mean())"
   ]
  },
  {
   "cell_type": "code",
   "execution_count": null,
   "metadata": {},
   "outputs": [],
   "source": []
  }
 ],
 "metadata": {
  "kernelspec": {
   "display_name": "Python 3",
   "language": "python",
   "name": "python3"
  },
  "language_info": {
   "codemirror_mode": {
    "name": "ipython",
    "version": 3
   },
   "file_extension": ".py",
   "mimetype": "text/x-python",
   "name": "python",
   "nbconvert_exporter": "python",
   "pygments_lexer": "ipython3",
   "version": "3.7.2"
  }
 },
 "nbformat": 4,
 "nbformat_minor": 2
}
