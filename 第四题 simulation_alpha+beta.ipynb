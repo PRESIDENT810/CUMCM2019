{
 "cells": [
  {
   "cell_type": "code",
   "execution_count": 1,
   "metadata": {},
   "outputs": [],
   "source": [
    "import numpy as np\n",
    "from copy import copy"
   ]
  },
  {
   "cell_type": "code",
   "execution_count": 2,
   "metadata": {},
   "outputs": [],
   "source": [
    "def taxi_price(distance, time_interval):\n",
    "    real_distance = distance\n",
    "    final_price = 0\n",
    "    min_price = 0.8 * time_interval\n",
    "    \n",
    "    if real_distance < 2:\n",
    "        final_price = 10 + min_price\n",
    "    elif real_distance > 25:\n",
    "        final_price = 10 + (25 - 2) * 2.6 + (real_distance - 25) * 1.3 * 2.6 + min_price\n",
    "    elif real_distance > 50:\n",
    "        final_price = 10 + (25 - 2) * 2.6 + 25 * 1.3 * 2.6 + (real_distance - 50) * 1.6 * 2.6 + min_price\n",
    "    \n",
    "    return final_price"
   ]
  },
  {
   "cell_type": "code",
   "execution_count": 3,
   "metadata": {
    "scrolled": true
   },
   "outputs": [],
   "source": [
    "# generate taxi coming condition\n",
    "def taxiAndCustomerFlow(mu_t, mu_c, n):\n",
    "#     taxi flow = new_arrived taxi + taxi that return\n",
    "    return np.random.poisson(mu_t, [1,n]), np.random.poisson(mu_c, [1,n])"
   ]
  },
  {
   "cell_type": "code",
   "execution_count": 4,
   "metadata": {},
   "outputs": [],
   "source": [
    "def getTripDistribution():\n",
    "#     10km 10min\n",
    "    distance = np.random.exponential(10)\n",
    "    return distance, distance * 2"
   ]
  },
  {
   "cell_type": "code",
   "execution_count": 5,
   "metadata": {},
   "outputs": [],
   "source": [
    "# if taxi goes too long away, then drop this instance\n",
    "def dropIfLong(distance, taxi, dropTaxiList, ceil):\n",
    "    new_drop_list = []\n",
    "    if distance > ceil:\n",
    "        dropTaxiList.append(taxi)\n",
    "        new_drop_list = copy(dropTaxiList)\n",
    "        return True, new_drop_list\n",
    "    else:\n",
    "        new_drop_list = copy(dropTaxiList) \n",
    "        return False, new_drop_list"
   ]
  },
  {
   "cell_type": "code",
   "execution_count": 6,
   "metadata": {},
   "outputs": [],
   "source": [
    "class Taxi:\n",
    "    money = 0\n",
    "    backtime = 0\n",
    "    def __init__(self, index):\n",
    "        self.index = index\n",
    "    def earnMoney(self, new_money):\n",
    "        self.money += new_money\n",
    "    def returnMoney(self):\n",
    "        return self.money\n",
    "    def setBackTime(self, time):\n",
    "        self.backtime = time\n",
    "    def subBackTime(self, time):\n",
    "        self.backtime -= time\n",
    "    def getBackTime(self):\n",
    "        return self.backtime\n",
    "    def checkBack(self):\n",
    "        return self.backtime <= 0"
   ]
  },
  {
   "cell_type": "code",
   "execution_count": 7,
   "metadata": {},
   "outputs": [],
   "source": [
    "# use time_back to sort the taxi\n",
    "import operator\n",
    "def checkTaxiBack(out_list, currentTaxiNum):\n",
    "#     print('here', out_list)\n",
    "    length = len(out_list)\n",
    "    \n",
    "    if(length == 0):\n",
    "        return ([],[],currentTaxiNum)\n",
    "    cmpfun = operator.attrgetter('money')\n",
    "    new_out_list = sorted(out_list,key=cmpfun)\n",
    "    #check how many cars are back, store in back taxis\n",
    "    back_taxis = []\n",
    "    #if back number larger than currentTaxiNum, directly return 0\n",
    "    cnt = 0\n",
    "    for taxi in new_out_list:\n",
    "        if taxi.checkBack():\n",
    "            cnt += 1\n",
    "#             add the taxi to back and remove from the out list\n",
    "            back_taxis.append(taxi)\n",
    "            new_out_list.remove(taxi)\n",
    "    new_come_taxi = 0\n",
    "    if cnt <= currentTaxiNum:\n",
    "        new_come_taxi = currentTaxiNum - cnt\n",
    "    else:\n",
    "        return new_out_list, back_taxis, new_come_taxi\n",
    "        \n",
    "    return new_out_list, back_taxis, new_come_taxi"
   ]
  },
  {
   "cell_type": "code",
   "execution_count": 8,
   "metadata": {},
   "outputs": [],
   "source": [
    "def allocateTaxi(queue_list, number):\n",
    "#     start allocation\n",
    "    allocate_taxis = []\n",
    "    \n",
    "    if(number > 0):\n",
    "        for i in range(number):\n",
    "            allocate_taxis.append(queue_list[i])\n",
    "#     print('new_queue_list',number, queue_list[number:])\n",
    "    temp_list = queue_list[number:]\n",
    "    new_queue_list = copy(temp_list)\n",
    "#     print('new_queue_list', new_queue_list, allocate_taxis)\n",
    "    return new_queue_list, allocate_taxis"
   ]
  },
  {
   "cell_type": "code",
   "execution_count": 9,
   "metadata": {},
   "outputs": [],
   "source": [
    "def refreshOutTaxis(out_list, time):\n",
    "    new_list = copy(out_list)\n",
    "    if len(new_list) == 0:\n",
    "        return new_list\n",
    "    else:\n",
    "        for i in out_list:\n",
    "            i.subBackTime(time)\n",
    "        return new_list"
   ]
  },
  {
   "cell_type": "code",
   "execution_count": 10,
   "metadata": {},
   "outputs": [],
   "source": [
    "def setTripToCar(p_alloc_taxi_list, drop_taxi_list, ceil):\n",
    "    alloc_taxi_list = []\n",
    "    new_drop_taxi_list = []\n",
    "    for i in p_alloc_taxi_list:\n",
    "        new_trip_distance, new_trip_time = getTripDistribution()\n",
    "        trip_money = taxi_price(new_trip_distance, new_trip_time) \n",
    "        i.earnMoney(trip_money)\n",
    "        i.setBackTime(new_trip_time)\n",
    "#         print('set trip to taxi',new_trip_distance, i, drop_taxi_list)\n",
    "        status, new_drop_taxi_list = dropIfLong(new_trip_distance, i, drop_taxi_list, ceil)\n",
    "        # not dropped\n",
    "        if(not status):\n",
    "            alloc_taxi_list.append(i)\n",
    "    return alloc_taxi_list, new_drop_taxi_list"
   ]
  },
  {
   "cell_type": "code",
   "execution_count": 11,
   "metadata": {},
   "outputs": [],
   "source": [
    "# def refreshInQueueTaxi(taxi_queue):\n",
    "#     if len(taxi_queue) <= 1:\n",
    "#         return\n",
    "#     else:\n",
    "#         logit = 1 / (1 + np.exp(1))\n",
    "#         for taxi in taxi_queue:\n",
    "#             time_now = taxi.getBackTime()\n",
    "#             if time_now < 0:\n",
    "#                 taxi.earnMoney(-10 * np.exp(2 * np.log(abs(time_now))))\n",
    "        "
   ]
  },
  {
   "cell_type": "code",
   "execution_count": 12,
   "metadata": {},
   "outputs": [],
   "source": [
    "def refreshInQueueTaxi(taxi_queue, alpha, beta):\n",
    "    if len(taxi_queue) <= 1:\n",
    "        return\n",
    "    else:\n",
    "        logit = 1 / (1 + np.exp(1))\n",
    "        for taxi in taxi_queue:\n",
    "            time_now = taxi.getBackTime()\n",
    "            if time_now < 0:\n",
    "                taxi.earnMoney(-beta * np.exp(alpha * np.log(abs(time_now))))\n",
    "        "
   ]
  },
  {
   "cell_type": "code",
   "execution_count": 13,
   "metadata": {},
   "outputs": [],
   "source": [
    "def algorithm(p_taxi_queue_list, back_taxis):\n",
    "    taxi_queue_list = copy(p_taxi_queue_list)\n",
    "    back_taxis_list = copy(back_taxis)\n",
    "#     print('algorithm', taxi_queue_list)\n",
    "    # insert cars\n",
    "    temp_list = taxi_queue_list + back_taxis_list\n",
    "    cmpfun = operator.attrgetter('backtime')\n",
    "    taxi_queue_list = sorted(temp_list,key=cmpfun)\n",
    "    # back new taxi queue\n",
    "    new_taxi_queue_list =  copy(taxi_queue_list)\n",
    "    return new_taxi_queue_list"
   ]
  },
  {
   "cell_type": "code",
   "execution_count": 14,
   "metadata": {},
   "outputs": [],
   "source": [
    "# we generate taxi and cust flow.\n",
    "# Unit of T is 5 min, so we simulate a 500 min case\n",
    "# taxi can pickup customer if they are in the front of the queue\n",
    "# we deemed that there exist 5 port for the taxi to pick customer up\n",
    "def simulation(alpha, beta):\n",
    "    T = 1000 # simulation time\n",
    "    n = 2 # a taxi for 2 cust\n",
    "    p = 10 # 10 port\n",
    "    unit_time = 5 # 5min a round\n",
    "    ceil = 10 # 10 km judge to \n",
    "    attenuation_rate = 0.8 #\n",
    "    \n",
    "    drop_taxi_list = [] # drop the car if too long\n",
    "    \n",
    "    taxi_queue_list = [] # waiting list for taxis\n",
    "    cust_queue = 0 # waiting number for cust\n",
    "    out_list = [] # for the taxi that are out of the air plane but short trip, going to return\n",
    "    taxi_flow, cust_flow = taxiAndCustomerFlow(10, 30, T)\n",
    "    taxi_flow = taxi_flow.tolist()[0]\n",
    "    cust_flow = cust_flow.tolist()[0]\n",
    "    \n",
    "    wait_time = 5 # if taxi cannot get the \n",
    "    \n",
    "    \n",
    "        \n",
    "    index_taxi = 0 # taxi index, use for create taxi object\n",
    "    for i in range(T):\n",
    "#         print(i)\n",
    "#         print(taxi_queue_list, cust_queue, out_list)\n",
    "        # Total flow of cust and taxi\n",
    "        refreshInQueueTaxi(taxi_queue_list, alpha, beta)\n",
    "        new_taxi_flow = taxi_flow[i]\n",
    "        new_cust = cust_flow[i]\n",
    "        \n",
    "#         print(new_taxi_flow, new_cust) # for debug\n",
    "\n",
    "        # refresh the status in out car, substract the interval\n",
    "        out_list = copy(refreshOutTaxis(out_list, unit_time))\n",
    "#         print('test_out_list', out_list) # for debug\n",
    "\n",
    "        # check Taxi backs, and get new_come_taxi and back_taxi\n",
    "        new_out_list, back_taxis, new_come_taxi = checkTaxiBack(out_list, new_taxi_flow)\n",
    "        \n",
    "#         print(\"back taxi\", new_out_list, back_taxis, new_come_taxi) # for debug\n",
    "\n",
    "        # refresh outlist\n",
    "        out_list = new_out_list\n",
    "#         print(\"out_list\", out_list)\n",
    "        # back taxis should add into the queue\n",
    "        # algorithms here\n",
    "#         print(\"algorithm\", taxi_queue_list, back_taxis)\n",
    "        taxi_queue_list = algorithm(taxi_queue_list, back_taxis)\n",
    "        \n",
    "        # newly come taxis\n",
    "        # we deemed that all newly come taxi should append at the end of the queue list\n",
    "        if new_come_taxi > 0:\n",
    "            # generate new coming taxi\n",
    "            for i in range(index_taxi, (index_taxi + new_come_taxi)):  \n",
    "                new_taxi = Taxi(i)\n",
    "                taxi_queue_list.append(new_taxi)\n",
    "#         print(\"new taxi added\", taxi_queue_list)\n",
    "        # Now allocate the customer to the taxis\n",
    "        # current customers\n",
    "        current_cust = cust_queue + new_cust\n",
    "        available_taxis_num = len(taxi_queue_list)\n",
    "        # ports are enough\n",
    "        if current_cust < (p * n):\n",
    "            # car enough\n",
    "            if current_cust < (available_taxis_num * n):\n",
    "                # all cust in queue are gone\n",
    "                require_taxi_num = round(current_cust / n)\n",
    "                cust_queue = 0\n",
    "                # allocate require taxi number\n",
    "                new_taxi_queue_list, allocate_taxis = allocateTaxi(taxi_queue_list, require_taxi_num)\n",
    "            # car not enough\n",
    "            else:\n",
    "                # refresh cust_queue\n",
    "                cust_queue = current_cust - available_taxis_num * n\n",
    "                new_taxi_queue_list, allocate_taxis = allocateTaxi(taxi_queue_list, available_taxis_num)\n",
    "        # port not enough\n",
    "        else:\n",
    "            # car not enough for port\n",
    "            if available_taxis_num < p:\n",
    "                # refresh cust_queue\n",
    "                cust_queue = current_cust - available_taxis_num * n\n",
    "                new_taxi_queue_list, allocate_taxis = allocateTaxi(taxi_queue_list, available_taxis_num)\n",
    "            # car enough for ports\n",
    "            else:\n",
    "                # cust_queue\n",
    "                cust_queue = current_cust - p * n\n",
    "                # allocate 5 car\n",
    "                new_taxi_queue_list, allocate_taxis = allocateTaxi(taxi_queue_list, 5)\n",
    "           \n",
    "        # give trips to car\n",
    "        allocate_taxis, new_drop_taxi_list = setTripToCar(allocate_taxis, drop_taxi_list, ceil)\n",
    "        drop_taxi_list = copy(new_drop_taxi_list)\n",
    "#         print(\"after allocation\", allocate_taxis, drop_taxi_list, allocate_taxis)\n",
    "        # add the out-trip taxi to the new_out_list\n",
    "        out_list = copy(new_out_list + allocate_taxis) # reset the out list\n",
    "        taxi_queue_list = copy(new_taxi_queue_list)\n",
    "#         print('end',drop_taxi_list ,taxi_queue_list)\n",
    "#         print(current_cust)\n",
    "        current_cust *= attenuation_rate\n",
    "    return drop_taxi_list, taxi_queue_list\n",
    "    \n",
    "        \n",
    "        \n",
    "    "
   ]
  },
  {
   "cell_type": "code",
   "execution_count": 15,
   "metadata": {},
   "outputs": [],
   "source": [
    "def stripListByBound(low, high, value):\n",
    "    new_list = []\n",
    "    for i in value:\n",
    "        if (low <= i) and (i <= high):\n",
    "            new_list.append(i)\n",
    "    return new_list\n",
    "        "
   ]
  },
  {
   "cell_type": "code",
   "execution_count": 16,
   "metadata": {},
   "outputs": [],
   "source": [
    "def getCompared(alpha, beta):\n",
    "    result = simulation(alpha, beta)\n",
    "    drop_taxis = result[0]\n",
    "#     queue_taxis = result[1]\n",
    "#     print(result)\n",
    "    drop_taxi_payoffs = []\n",
    "#     queue_taxi_payoffs = []\n",
    "    \n",
    "    for i in drop_taxis:\n",
    "        drop_taxi_payoffs.append(i.returnMoney())\n",
    "#     for j in queue_taxis:\n",
    "#         queue_taxi_payoffs.append(j.returnMoney())\n",
    "#     print(queue_taxi_payoffs)\n",
    "    drop_taxi_payoffs = stripListByBound(-50, 25, drop_taxi_payoffs)\n",
    "    std_drop = np.std(drop_taxi_payoffs)\n",
    "#     std_queue = np.std(queue_taxi_payoffs)\n",
    "#     return std_drop,drop_taxi_payoffs\n",
    "    return std_drop"
   ]
  },
  {
   "cell_type": "code",
   "execution_count": 17,
   "metadata": {},
   "outputs": [],
   "source": [
    "def get_grad(alpha, beta, delta=0.00001):\n",
    "    payoff00 = getCompared(alpha, beta)\n",
    "    payoff01 = getCompared(alpha, beta+delta)\n",
    "    payoff10 = getCompared(alpha+delta, beta)\n",
    "    grad01 = (payoff01-payoff00)/delta\n",
    "    grad10 = (payoff10-payoff00)/delta\n",
    "    return grad10, grad01 ### the gradient where alpha+delta / beta+delta\n",
    "def grad_dct(start_alpha, start_beta, lr=0.1, threshold=0.01):\n",
    "    total = 0\n",
    "    grad = (get_grad(start_alpha, start_beta))\n",
    "    nxt_a = start_alpha\n",
    "    nxt_b = start_beta\n",
    "    while abs(grad[0]) > threshold or abs(grad[1]) > threshold:\n",
    "        print('a: ', nxt_a, 'b: ', nxt_b)\n",
    "        total += 1\n",
    "        grad = (get_grad(nxt_a, nxt_b))\n",
    "#         print(grad)\n",
    "        nxt_a = nxt_a-grad[0]*lr\n",
    "        nxt_b = nxt_b-grad[1]*lr\n",
    "        if total > 100000:\n",
    "            break\n",
    "    return nxt_a, nxt_b"
   ]
  },
  {
   "cell_type": "code",
   "execution_count": 18,
   "metadata": {},
   "outputs": [
    {
     "data": {
      "text/plain": [
       "7.2396605686902165"
      ]
     },
     "execution_count": 18,
     "metadata": {},
     "output_type": "execute_result"
    }
   ],
   "source": [
    "getCompared(10,30)"
   ]
  },
  {
   "cell_type": "code",
   "execution_count": 19,
   "metadata": {},
   "outputs": [
    {
     "name": "stderr",
     "output_type": "stream",
     "text": [
      "/usr/local/lib/python3.7/site-packages/ipykernel_launcher.py:9: RuntimeWarning: overflow encountered in exp\n",
      "  if __name__ == '__main__':\n"
     ]
    },
    {
     "data": {
      "text/plain": [
       "7.024316850945625"
      ]
     },
     "execution_count": 19,
     "metadata": {},
     "output_type": "execute_result"
    }
   ],
   "source": [
    "getCompared(163606.7169144583, -98964.01310787872)"
   ]
  },
  {
   "cell_type": "code",
   "execution_count": 20,
   "metadata": {},
   "outputs": [
    {
     "name": "stdout",
     "output_type": "stream",
     "text": [
      "a:  1 b:  1\n",
      "a:  2956.985461920756 b:  565.2421046744506\n"
     ]
    },
    {
     "name": "stderr",
     "output_type": "stream",
     "text": [
      "/usr/local/lib/python3.7/site-packages/ipykernel_launcher.py:9: RuntimeWarning: overflow encountered in exp\n",
      "  if __name__ == '__main__':\n"
     ]
    },
    {
     "name": "stdout",
     "output_type": "stream",
     "text": [
      "a:  693.2553139547458 b:  -129.672424788365\n",
      "a:  -609.540984698185 b:  -363.42380537149427\n",
      "a:  -3362.1183370398076 b:  -2820.748994576394\n",
      "a:  -4576.599214884698 b:  -1386.8116374792617\n",
      "a:  -992.4545456245041 b:  808.1005631987832\n",
      "a:  1298.4947499917002 b:  -690.3667296205622\n",
      "a:  -2127.335553732478 b:  -4393.571726542128\n",
      "a:  -580.7301279749477 b:  -7300.195753660999\n",
      "a:  589.4309671714038 b:  -7135.546374324224\n",
      "a:  -353.16650777346456 b:  -9790.945823509486\n",
      "a:  -2793.990779660563 b:  -10286.368397290486\n",
      "a:  -8459.198942910387 b:  -13440.809163336186\n",
      "a:  -4802.19969916618 b:  -13690.997667465117\n"
     ]
    },
    {
     "ename": "KeyboardInterrupt",
     "evalue": "",
     "output_type": "error",
     "traceback": [
      "\u001b[0;31m---------------------------------------------------------------------------\u001b[0m",
      "\u001b[0;31mKeyboardInterrupt\u001b[0m                         Traceback (most recent call last)",
      "\u001b[0;32m<ipython-input-20-24ce0b142097>\u001b[0m in \u001b[0;36m<module>\u001b[0;34m\u001b[0m\n\u001b[0;32m----> 1\u001b[0;31m \u001b[0mgrad_dct\u001b[0m\u001b[0;34m(\u001b[0m\u001b[0;36m1\u001b[0m\u001b[0;34m,\u001b[0m\u001b[0;36m1\u001b[0m\u001b[0;34m)\u001b[0m\u001b[0;34m\u001b[0m\u001b[0;34m\u001b[0m\u001b[0m\n\u001b[0m",
      "\u001b[0;32m<ipython-input-17-5de9ab011443>\u001b[0m in \u001b[0;36mgrad_dct\u001b[0;34m(start_alpha, start_beta, lr, threshold)\u001b[0m\n\u001b[1;32m     14\u001b[0m         \u001b[0mprint\u001b[0m\u001b[0;34m(\u001b[0m\u001b[0;34m'a: '\u001b[0m\u001b[0;34m,\u001b[0m \u001b[0mnxt_a\u001b[0m\u001b[0;34m,\u001b[0m \u001b[0;34m'b: '\u001b[0m\u001b[0;34m,\u001b[0m \u001b[0mnxt_b\u001b[0m\u001b[0;34m)\u001b[0m\u001b[0;34m\u001b[0m\u001b[0;34m\u001b[0m\u001b[0m\n\u001b[1;32m     15\u001b[0m         \u001b[0mtotal\u001b[0m \u001b[0;34m+=\u001b[0m \u001b[0;36m1\u001b[0m\u001b[0;34m\u001b[0m\u001b[0;34m\u001b[0m\u001b[0m\n\u001b[0;32m---> 16\u001b[0;31m         \u001b[0mgrad\u001b[0m \u001b[0;34m=\u001b[0m \u001b[0;34m(\u001b[0m\u001b[0mget_grad\u001b[0m\u001b[0;34m(\u001b[0m\u001b[0mnxt_a\u001b[0m\u001b[0;34m,\u001b[0m \u001b[0mnxt_b\u001b[0m\u001b[0;34m)\u001b[0m\u001b[0;34m)\u001b[0m\u001b[0;34m\u001b[0m\u001b[0;34m\u001b[0m\u001b[0m\n\u001b[0m\u001b[1;32m     17\u001b[0m \u001b[0;31m#         print(grad)\u001b[0m\u001b[0;34m\u001b[0m\u001b[0;34m\u001b[0m\u001b[0;34m\u001b[0m\u001b[0m\n\u001b[1;32m     18\u001b[0m         \u001b[0mnxt_a\u001b[0m \u001b[0;34m=\u001b[0m \u001b[0mnxt_a\u001b[0m\u001b[0;34m-\u001b[0m\u001b[0mgrad\u001b[0m\u001b[0;34m[\u001b[0m\u001b[0;36m0\u001b[0m\u001b[0;34m]\u001b[0m\u001b[0;34m*\u001b[0m\u001b[0mlr\u001b[0m\u001b[0;34m\u001b[0m\u001b[0;34m\u001b[0m\u001b[0m\n",
      "\u001b[0;32m<ipython-input-17-5de9ab011443>\u001b[0m in \u001b[0;36mget_grad\u001b[0;34m(alpha, beta, delta)\u001b[0m\n\u001b[1;32m      1\u001b[0m \u001b[0;32mdef\u001b[0m \u001b[0mget_grad\u001b[0m\u001b[0;34m(\u001b[0m\u001b[0malpha\u001b[0m\u001b[0;34m,\u001b[0m \u001b[0mbeta\u001b[0m\u001b[0;34m,\u001b[0m \u001b[0mdelta\u001b[0m\u001b[0;34m=\u001b[0m\u001b[0;36m0.00001\u001b[0m\u001b[0;34m)\u001b[0m\u001b[0;34m:\u001b[0m\u001b[0;34m\u001b[0m\u001b[0;34m\u001b[0m\u001b[0m\n\u001b[0;32m----> 2\u001b[0;31m     \u001b[0mpayoff00\u001b[0m \u001b[0;34m=\u001b[0m \u001b[0mgetCompared\u001b[0m\u001b[0;34m(\u001b[0m\u001b[0malpha\u001b[0m\u001b[0;34m,\u001b[0m \u001b[0mbeta\u001b[0m\u001b[0;34m)\u001b[0m\u001b[0;34m\u001b[0m\u001b[0;34m\u001b[0m\u001b[0m\n\u001b[0m\u001b[1;32m      3\u001b[0m     \u001b[0mpayoff01\u001b[0m \u001b[0;34m=\u001b[0m \u001b[0mgetCompared\u001b[0m\u001b[0;34m(\u001b[0m\u001b[0malpha\u001b[0m\u001b[0;34m,\u001b[0m \u001b[0mbeta\u001b[0m\u001b[0;34m+\u001b[0m\u001b[0mdelta\u001b[0m\u001b[0;34m)\u001b[0m\u001b[0;34m\u001b[0m\u001b[0;34m\u001b[0m\u001b[0m\n\u001b[1;32m      4\u001b[0m     \u001b[0mpayoff10\u001b[0m \u001b[0;34m=\u001b[0m \u001b[0mgetCompared\u001b[0m\u001b[0;34m(\u001b[0m\u001b[0malpha\u001b[0m\u001b[0;34m+\u001b[0m\u001b[0mdelta\u001b[0m\u001b[0;34m,\u001b[0m \u001b[0mbeta\u001b[0m\u001b[0;34m)\u001b[0m\u001b[0;34m\u001b[0m\u001b[0;34m\u001b[0m\u001b[0m\n\u001b[1;32m      5\u001b[0m     \u001b[0mgrad01\u001b[0m \u001b[0;34m=\u001b[0m \u001b[0;34m(\u001b[0m\u001b[0mpayoff01\u001b[0m\u001b[0;34m-\u001b[0m\u001b[0mpayoff00\u001b[0m\u001b[0;34m)\u001b[0m\u001b[0;34m/\u001b[0m\u001b[0mdelta\u001b[0m\u001b[0;34m\u001b[0m\u001b[0;34m\u001b[0m\u001b[0m\n",
      "\u001b[0;32m<ipython-input-16-729de18b4fae>\u001b[0m in \u001b[0;36mgetCompared\u001b[0;34m(alpha, beta)\u001b[0m\n\u001b[1;32m      1\u001b[0m \u001b[0;32mdef\u001b[0m \u001b[0mgetCompared\u001b[0m\u001b[0;34m(\u001b[0m\u001b[0malpha\u001b[0m\u001b[0;34m,\u001b[0m \u001b[0mbeta\u001b[0m\u001b[0;34m)\u001b[0m\u001b[0;34m:\u001b[0m\u001b[0;34m\u001b[0m\u001b[0;34m\u001b[0m\u001b[0m\n\u001b[0;32m----> 2\u001b[0;31m     \u001b[0mresult\u001b[0m \u001b[0;34m=\u001b[0m \u001b[0msimulation\u001b[0m\u001b[0;34m(\u001b[0m\u001b[0malpha\u001b[0m\u001b[0;34m,\u001b[0m \u001b[0mbeta\u001b[0m\u001b[0;34m)\u001b[0m\u001b[0;34m\u001b[0m\u001b[0;34m\u001b[0m\u001b[0m\n\u001b[0m\u001b[1;32m      3\u001b[0m     \u001b[0mdrop_taxis\u001b[0m \u001b[0;34m=\u001b[0m \u001b[0mresult\u001b[0m\u001b[0;34m[\u001b[0m\u001b[0;36m0\u001b[0m\u001b[0;34m]\u001b[0m\u001b[0;34m\u001b[0m\u001b[0;34m\u001b[0m\u001b[0m\n\u001b[1;32m      4\u001b[0m \u001b[0;31m#     queue_taxis = result[1]\u001b[0m\u001b[0;34m\u001b[0m\u001b[0;34m\u001b[0m\u001b[0;34m\u001b[0m\u001b[0m\n\u001b[1;32m      5\u001b[0m \u001b[0;31m#     print(result)\u001b[0m\u001b[0;34m\u001b[0m\u001b[0;34m\u001b[0m\u001b[0;34m\u001b[0m\u001b[0m\n",
      "\u001b[0;32m<ipython-input-14-ea1bb9e7a900>\u001b[0m in \u001b[0;36msimulation\u001b[0;34m(alpha, beta)\u001b[0m\n\u001b[1;32m     50\u001b[0m         \u001b[0;31m# algorithms here\u001b[0m\u001b[0;34m\u001b[0m\u001b[0;34m\u001b[0m\u001b[0;34m\u001b[0m\u001b[0m\n\u001b[1;32m     51\u001b[0m \u001b[0;31m#         print(\"algorithm\", taxi_queue_list, back_taxis)\u001b[0m\u001b[0;34m\u001b[0m\u001b[0;34m\u001b[0m\u001b[0;34m\u001b[0m\u001b[0m\n\u001b[0;32m---> 52\u001b[0;31m         \u001b[0mtaxi_queue_list\u001b[0m \u001b[0;34m=\u001b[0m \u001b[0malgorithm\u001b[0m\u001b[0;34m(\u001b[0m\u001b[0mtaxi_queue_list\u001b[0m\u001b[0;34m,\u001b[0m \u001b[0mback_taxis\u001b[0m\u001b[0;34m)\u001b[0m\u001b[0;34m\u001b[0m\u001b[0;34m\u001b[0m\u001b[0m\n\u001b[0m\u001b[1;32m     53\u001b[0m \u001b[0;34m\u001b[0m\u001b[0m\n\u001b[1;32m     54\u001b[0m         \u001b[0;31m# newly come taxis\u001b[0m\u001b[0;34m\u001b[0m\u001b[0;34m\u001b[0m\u001b[0;34m\u001b[0m\u001b[0m\n",
      "\u001b[0;32m<ipython-input-13-193049f7ac57>\u001b[0m in \u001b[0;36malgorithm\u001b[0;34m(p_taxi_queue_list, back_taxis)\u001b[0m\n\u001b[1;32m      8\u001b[0m     \u001b[0mtaxi_queue_list\u001b[0m \u001b[0;34m=\u001b[0m \u001b[0msorted\u001b[0m\u001b[0;34m(\u001b[0m\u001b[0mtemp_list\u001b[0m\u001b[0;34m,\u001b[0m\u001b[0mkey\u001b[0m\u001b[0;34m=\u001b[0m\u001b[0mcmpfun\u001b[0m\u001b[0;34m)\u001b[0m\u001b[0;34m\u001b[0m\u001b[0;34m\u001b[0m\u001b[0m\n\u001b[1;32m      9\u001b[0m     \u001b[0;31m# back new taxi queue\u001b[0m\u001b[0;34m\u001b[0m\u001b[0;34m\u001b[0m\u001b[0;34m\u001b[0m\u001b[0m\n\u001b[0;32m---> 10\u001b[0;31m     \u001b[0mnew_taxi_queue_list\u001b[0m \u001b[0;34m=\u001b[0m  \u001b[0mcopy\u001b[0m\u001b[0;34m(\u001b[0m\u001b[0mtaxi_queue_list\u001b[0m\u001b[0;34m)\u001b[0m\u001b[0;34m\u001b[0m\u001b[0;34m\u001b[0m\u001b[0m\n\u001b[0m\u001b[1;32m     11\u001b[0m     \u001b[0;32mreturn\u001b[0m \u001b[0mnew_taxi_queue_list\u001b[0m\u001b[0;34m\u001b[0m\u001b[0;34m\u001b[0m\u001b[0m\n",
      "\u001b[0;32m/usr/local/Cellar/python/3.7.2_2/Frameworks/Python.framework/Versions/3.7/lib/python3.7/copy.py\u001b[0m in \u001b[0;36mcopy\u001b[0;34m(x)\u001b[0m\n\u001b[1;32m     74\u001b[0m     \u001b[0mcopier\u001b[0m \u001b[0;34m=\u001b[0m \u001b[0m_copy_dispatch\u001b[0m\u001b[0;34m.\u001b[0m\u001b[0mget\u001b[0m\u001b[0;34m(\u001b[0m\u001b[0mcls\u001b[0m\u001b[0;34m)\u001b[0m\u001b[0;34m\u001b[0m\u001b[0;34m\u001b[0m\u001b[0m\n\u001b[1;32m     75\u001b[0m     \u001b[0;32mif\u001b[0m \u001b[0mcopier\u001b[0m\u001b[0;34m:\u001b[0m\u001b[0;34m\u001b[0m\u001b[0;34m\u001b[0m\u001b[0m\n\u001b[0;32m---> 76\u001b[0;31m         \u001b[0;32mreturn\u001b[0m \u001b[0mcopier\u001b[0m\u001b[0;34m(\u001b[0m\u001b[0mx\u001b[0m\u001b[0;34m)\u001b[0m\u001b[0;34m\u001b[0m\u001b[0;34m\u001b[0m\u001b[0m\n\u001b[0m\u001b[1;32m     77\u001b[0m \u001b[0;34m\u001b[0m\u001b[0m\n\u001b[1;32m     78\u001b[0m     \u001b[0;32mtry\u001b[0m\u001b[0;34m:\u001b[0m\u001b[0;34m\u001b[0m\u001b[0;34m\u001b[0m\u001b[0m\n",
      "\u001b[0;31mKeyboardInterrupt\u001b[0m: "
     ]
    }
   ],
   "source": [
    "grad_dct(1,1)"
   ]
  },
  {
   "cell_type": "code",
   "execution_count": null,
   "metadata": {},
   "outputs": [],
   "source": [
    "import matplotlib.pyplot as plt\n",
    "import matplotlib as mpl\n",
    "import numpy as np\n",
    "\n",
    "mpl.rcParams[\"font.sans-serif\"] = [\"FangSong\"]\n",
    "mpl.rcParams[\"axes.unicode_minus\"] = False\n",
    "\n",
    "x = drop_taxi_payoffs\n",
    "\n",
    "plt.boxplot(x)\n",
    "\n",
    "plt.xticks([1], [\"随机数生成器AlphaRM\"])\n",
    "plt.ylabel(\"随机数值\")\n",
    "plt.title(\"随机数生成器抗干扰能力的稳定性\")\n",
    "\n",
    "plt.grid(axis=\"y\", ls=\":\", lw=1, color=\"gray\", alpha=0.4)\n",
    "\n",
    "plt.show()"
   ]
  },
  {
   "cell_type": "code",
   "execution_count": null,
   "metadata": {},
   "outputs": [],
   "source": [
    "len(result[1])"
   ]
  },
  {
   "cell_type": "code",
   "execution_count": null,
   "metadata": {},
   "outputs": [],
   "source": []
  },
  {
   "cell_type": "code",
   "execution_count": null,
   "metadata": {},
   "outputs": [],
   "source": []
  },
  {
   "cell_type": "code",
   "execution_count": null,
   "metadata": {},
   "outputs": [],
   "source": []
  }
 ],
 "metadata": {
  "kernelspec": {
   "display_name": "Python 3",
   "language": "python",
   "name": "python3"
  },
  "language_info": {
   "codemirror_mode": {
    "name": "ipython",
    "version": 3
   },
   "file_extension": ".py",
   "mimetype": "text/x-python",
   "name": "python",
   "nbconvert_exporter": "python",
   "pygments_lexer": "ipython3",
   "version": "3.7.2"
  }
 },
 "nbformat": 4,
 "nbformat_minor": 2
}
